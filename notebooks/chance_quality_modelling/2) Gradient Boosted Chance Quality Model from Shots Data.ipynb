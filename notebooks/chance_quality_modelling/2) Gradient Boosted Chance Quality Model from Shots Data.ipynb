{
 "cells": [
  {
   "cell_type": "markdown",
   "metadata": {},
   "source": [
    "<a id='top'></a>"
   ]
  },
  {
   "cell_type": "markdown",
   "metadata": {},
   "source": [
    "# 2) Gradient Boosted Chance Quality Model from Shots Data\n",
    "##### Notebook to further imrpove the Chance Quality Model (CQM) model created in the previous notebook from a provided sample of just under 11,000 shots, series through the application of the XGBoost Gradient Boosting algorithm.\n",
    "\n",
    "### By [Edd Webster](https://www.twitter.com/eddwebster)\n",
    "Notebook first written: 26/03/2021<br>\n",
    "Notebook submitted for review: 28/03/2021<br>\n",
    "Notebook last updated: 27/03/2021\n",
    "\n",
    "![title](../../img/expected_goals_visual.png)\n",
    "\n",
    "Photo credit to David Sumpter ([@Soccermatics](https://twitter.com/Soccermatics?))."
   ]
  },
  {
   "cell_type": "markdown",
   "metadata": {},
   "source": [
    "---\n",
    "\n",
    "## <a id='introduction'>Introduction</a>\n",
    "This notebook is a short walk-through of how to create an Expected Goals (xG) model using a just under 11,00 shots, in [Python](https://www.python.org/), using [pandas](http://pandas.pydata.org/) DataFrames, [scikit-learn](https://scikit-learn.org/stable/) for Machine Learning, and [matplotlib](https://matplotlib.org/contents.html?v=20200411155018) visualisations.\n",
    "\n",
    "For more information about this notebook and the author, I am available through all the following channels:\n",
    "*    [eddwebster.com](https://www.eddwebster.com/);\n",
    "*    edd.j.webster@gmail.com;\n",
    "*    [@eddwebster](https://www.twitter.com/eddwebster);\n",
    "*    [linkedin.com/in/eddwebster](https://www.linkedin.com/in/eddwebster/);\n",
    "*    [github/eddwebster](https://github.com/eddwebster/); and\n",
    "*    [public.tableau.com/profile/edd.webster](https://public.tableau.com/profile/edd.webster).\n",
    "\n",
    "![title](../../img/edd_webster/fifa21eddwebsterbanner.png)\n",
    "\n",
    "The accompanying GitHub repository for this notebook can be found [here](https://github.com/eddwebster/mcfc_submission/) and a static version of this notebook can be found [here](https://nbviewer.jupyter.org/github/eddwebster/mcfc_submission/blob/main/notebooks/chance_quality_modelling/Creating%20a%20Chance%20Quality%20Model%20from%20Shots%20Data.ipynb)."
   ]
  },
  {
   "cell_type": "markdown",
   "metadata": {},
   "source": [
    "___\n",
    "\n",
    "## <a id='notebook_contents'>Notebook Contents</a>\n",
    "1.      [Notebook Dependencies](#section1)<br>\n",
    "2.      [Project Brief](#section2)<br>\n",
    "3.      [Introduction to XGBoost](#section3)<br>\n",
    "4.      [Bagging Vs. Boosting](#section4)<br>\n",
    "5.      [Theory Behind the XGBoost Algorithm](#section5)<br>\n",
    "6.      [Data Sources](#section6)<br>\n",
    "        1.    [Data Dictionary](#section6.1)<br>\n",
    "        2.    [Creating the DataFrame](#section6.2)<br>\n",
    "        3.    [Initial Data Handling](#section6.3)<br>    \n",
    "7.      [Initial Modeling](#section7)<br>\n",
    "8.      [k-fold Cross Validation using XGBoost](#section8)<br>\n",
    "9.      [Feature Importance with XGBoost](#section9)<br>\n",
    "10.     [Visualisation of XGBoost Tree](#section10)<br>\n",
    "11.     [Hyperparameter Optimisation](#section11)<br>\n",
    "12.     [Final Optimised XGBoost Model](#section12)<br>\n",
    "13.     [Performance comparison of XGBoost with Logistic Regression](#section13)<br>\n",
    "14.     [Assessment of the Performance of the Teams in Game 2 of the Metrica Sports Shot Data](#section14)<br>\n",
    "15.     [Summary](#section15)<br>\n",
    "16.     [Next Steps](#section16)<br>\n",
    "17.     [References and Further Reading](#section17)<br>"
   ]
  },
  {
   "cell_type": "markdown",
   "metadata": {},
   "source": [
    "---\n",
    "\n",
    "## <a id='#section1'>1. Notebook Dependencies</a>\n",
    "This notebook was written using [Python 3](https://docs.python.org/3.7/) and requires the following libraries:\n",
    "*    [`Jupyter notebooks`](https://jupyter.org/) for this notebook environment with which this project is presented;\n",
    "*    [`NumPy`](http://www.numpy.org/) for multidimensional array computing;\n",
    "*    [`pandas`](http://pandas.pydata.org/) for data analysis and manipulation;\n",
    "*    [`matplotlib`](https://matplotlib.org/contents.html?v=20200411155018) for data visualisations; and\n",
    "*    [`scikit-learn`](https://scikit-learn.org/stable/index.html) for Machine Learning.\n",
    "\n",
    "All packages used for this notebook except can be obtained by downloading and installing the [Conda](https://anaconda.org/anaconda/conda) distribution, available on all platforms (Windows, Linux and Mac OSX). Step-by-step guides on how to install Anaconda can be found for Windows [here](https://medium.com/@GalarnykMichael/install-python-on-windows-anaconda-c63c7c3d1444) and Mac [here](https://medium.com/@GalarnykMichael/install-python-on-mac-anaconda-ccd9f2014072), as well as in the Anaconda documentation itself [here](https://docs.anaconda.com/anaconda/install/)."
   ]
  },
  {
   "cell_type": "markdown",
   "metadata": {},
   "source": [
    "### Import Libraries and Modules"
   ]
  },
  {
   "cell_type": "code",
   "execution_count": 1,
   "metadata": {},
   "outputs": [
    {
     "name": "stdout",
     "output_type": "stream",
     "text": [
      "Setup Complete\n"
     ]
    }
   ],
   "source": [
    "%load_ext autoreload\n",
    "%autoreload 2\n",
    "\n",
    "# Python ≥3.5 (ideally)\n",
    "import platform\n",
    "import sys, getopt\n",
    "assert sys.version_info >= (3, 5)\n",
    "import csv\n",
    "\n",
    "# Import Dependencies\n",
    "%matplotlib inline\n",
    "\n",
    "# Math Operations\n",
    "import numpy as np\n",
    "import math\n",
    "from math import pi\n",
    "\n",
    "# Datetime\n",
    "import datetime\n",
    "from datetime import date\n",
    "import time\n",
    "\n",
    "# Data Preprocessing\n",
    "import pandas as pd\n",
    "import os\n",
    "import re\n",
    "import random\n",
    "from io import BytesIO\n",
    "from pathlib import Path\n",
    "\n",
    "# Reading directories\n",
    "import glob\n",
    "import os\n",
    "from os.path import basename\n",
    "\n",
    "# Working with JSON\n",
    "import json\n",
    "from pandas.io.json import json_normalize\n",
    "\n",
    "# Data Visualisation\n",
    "import matplotlib as mpl\n",
    "import matplotlib.pyplot as plt\n",
    "from matplotlib import patches\n",
    "from matplotlib.patches import Arc\n",
    "from matplotlib.colors import ListedColormap\n",
    "import seaborn as sns\n",
    "plt.style.use('seaborn-whitegrid')\n",
    "import missingno as msno\n",
    "from xgboost import plot_tree\n",
    "import graphviz\n",
    "\n",
    "# Downloading data sources\n",
    "from urllib.parse import urlparse\n",
    "from urllib.request import urlopen, urlretrieve\n",
    "from zipfile import ZipFile, is_zipfile\n",
    "from tqdm import tqdm\n",
    "\n",
    "# Football libraries\n",
    "#import FCPython\n",
    "#from FCPython import createPitch\n",
    "#import matplotsoccer\n",
    "\n",
    "# Machine Learning\n",
    "import scipy as sp\n",
    "from scipy.spatial import distance\n",
    "import sklearn\n",
    "from sklearn.ensemble import RandomForestClassifier, IsolationForest\n",
    "#from sklearn.inspection import permutation_importance\n",
    "import sklearn.metrics as sk_metrics\n",
    "from sklearn.metrics import log_loss, brier_score_loss, roc_auc_score , roc_curve, average_precision_score, accuracy_score\n",
    "from sklearn.model_selection import train_test_split, StratifiedKFold, KFold, cross_val_score, GridSearchCV, RandomizedSearchCV\n",
    "from sklearn.linear_model import LogisticRegression, LinearRegression\n",
    "from scikitplot.metrics import plot_roc_curve, plot_precision_recall_curve, plot_calibration_curve\n",
    "import pickle\n",
    "import shap\n",
    "#import lightgbm as lgb\n",
    "import xgboost as xgb\n",
    "from xgboost import XGBClassifier, cv\n",
    "\n",
    "# Display in Jupyter\n",
    "from IPython.display import Image, Video, YouTubeVideo\n",
    "from IPython.core.display import HTML\n",
    "\n",
    "# Ignore Warnings\n",
    "import warnings\n",
    "warnings.filterwarnings(action=\"ignore\", message=\"^internal gelsd\")\n",
    "\n",
    "print('Setup Complete')"
   ]
  },
  {
   "cell_type": "code",
   "execution_count": 2,
   "metadata": {},
   "outputs": [
    {
     "name": "stdout",
     "output_type": "stream",
     "text": [
      "Python: 3.7.6\n",
      "NumPy: 1.18.0\n",
      "pandas: 1.2.0\n",
      "matplotlib: 3.3.2\n",
      "Seaborn: 0.11.1\n"
     ]
    }
   ],
   "source": [
    "# Python / module versions used here for reference\n",
    "print('Python: {}'.format(platform.python_version()))\n",
    "print('NumPy: {}'.format(np.__version__))\n",
    "print('pandas: {}'.format(pd.__version__))\n",
    "print('matplotlib: {}'.format(mpl.__version__))\n",
    "print('Seaborn: {}'.format(sns.__version__))"
   ]
  },
  {
   "cell_type": "markdown",
   "metadata": {},
   "source": [
    "### Defined Variables"
   ]
  },
  {
   "cell_type": "code",
   "execution_count": 3,
   "metadata": {},
   "outputs": [],
   "source": [
    "# Define today's date\n",
    "today = datetime.datetime.now().strftime('%d/%m/%Y').replace('/', '')"
   ]
  },
  {
   "cell_type": "markdown",
   "metadata": {},
   "source": [
    "### Defined Filepaths"
   ]
  },
  {
   "cell_type": "code",
   "execution_count": 4,
   "metadata": {},
   "outputs": [],
   "source": [
    "# Set up initial paths to subfolders\n",
    "base_dir = os.path.join('..', '..')\n",
    "data_dir = os.path.join(base_dir, 'data')\n",
    "data_dir_shots = os.path.join(base_dir, 'data', 'shots')\n",
    "data_dir_metrica = os.path.join(base_dir, 'data', 'metrica-sports')\n",
    "models_dir = os.path.join(base_dir, 'models')\n",
    "models_dir_shots = os.path.join(base_dir, 'models', 'shots')\n",
    "scripts_dir = os.path.join(base_dir, 'scripts')\n",
    "img_dir = os.path.join(base_dir, 'img')\n",
    "fig_dir = os.path.join(base_dir, 'img', 'fig')\n",
    "fig_shots_dir = os.path.join(base_dir, 'img', 'fig', 'shots')\n",
    "video_dir = os.path.join(base_dir, 'video')"
   ]
  },
  {
   "cell_type": "markdown",
   "metadata": {},
   "source": [
    "### Custom Functions"
   ]
  },
  {
   "cell_type": "code",
   "execution_count": 5,
   "metadata": {},
   "outputs": [],
   "source": [
    "def timer(start_time=None):\n",
    "    if not start_time:\n",
    "        start_time = datetime.datetime.now()\n",
    "        return start_time\n",
    "    elif start_time:\n",
    "        thour, temp_sec = divmod((datetime.datetime.now() - start_time).total_seconds(), 3600)\n",
    "        tmin, tsec = divmod(temp_sec, 60)\n",
    "        print('\\n Time taken: %i hours %i minutes and %s seconds.' % (thour, tmin, round(tsec, 2)))"
   ]
  },
  {
   "cell_type": "code",
   "execution_count": 6,
   "metadata": {},
   "outputs": [],
   "source": [
    "# Custom function to draw a football pitch by Peter McKeever. See: http://petermckeever.com/2020/10/how-to-draw-a-football-pitch/\n",
    "def draw_pitch(x_min=0, x_max=105,\n",
    "               y_min=0, y_max=68,\n",
    "               pitch_color=\"w\",\n",
    "               line_color=\"grey\",\n",
    "               line_thickness=1.5,\n",
    "               point_size=20,\n",
    "               orientation=\"horizontal\",\n",
    "               aspect=\"full\",\n",
    "               ax=None\n",
    "               ):\n",
    "\n",
    "    if not ax:\n",
    "        raise TypeError(\"This function is intended to be used with an existing fig and ax in order to allow flexibility in plotting of various sizes and in subplots.\")\n",
    "\n",
    "\n",
    "    if orientation.lower().startswith(\"h\"):\n",
    "        first = 0\n",
    "        second = 1\n",
    "        arc_angle = 0\n",
    "\n",
    "        if aspect == \"half\":\n",
    "            ax.set_xlim(x_max / 2, x_max + 5)\n",
    "\n",
    "    elif orientation.lower().startswith(\"v\"):\n",
    "        first = 1\n",
    "        second = 0\n",
    "        arc_angle = 90\n",
    "\n",
    "        if aspect == \"half\":\n",
    "            ax.set_ylim(x_max / 2, x_max + 5)\n",
    "\n",
    "    \n",
    "    else:\n",
    "        raise NameError(\"You must choose one of horizontal or vertical\")\n",
    "\n",
    "    \n",
    "    ax.axis(\"off\")\n",
    "\n",
    "    rect = plt.Rectangle((x_min, y_min),\n",
    "                         x_max, y_max,\n",
    "                         facecolor=pitch_color,\n",
    "                         edgecolor=\"none\",\n",
    "                         zorder=-2)\n",
    "\n",
    "    ax.add_artist(rect)\n",
    "\n",
    "    x_conversion = x_max / 100\n",
    "    y_conversion = y_max / 100\n",
    "\n",
    "    pitch_x = [0,5.8,11.5,17,50,83,88.5,94.2,100] # pitch x markings\n",
    "    pitch_x = [x * x_conversion for x in pitch_x]\n",
    "\n",
    "    pitch_y = [0, 21.1, 36.6, 50, 63.2, 78.9, 100] # pitch y markings\n",
    "    pitch_y = [x * y_conversion for x in pitch_y]\n",
    "\n",
    "    goal_y = [45.2, 54.8] # goal posts\n",
    "    goal_y = [x * y_conversion for x in goal_y]\n",
    "\n",
    "    # side and goal lines\n",
    "    lx1 = [x_min, x_max, x_max, x_min, x_min]\n",
    "    ly1 = [y_min, y_min, y_max, y_max, y_min]\n",
    "\n",
    "    # outer boxed\n",
    "    lx2 = [x_max, pitch_x[5], pitch_x[5], x_max]\n",
    "    ly2 = [pitch_y[1], pitch_y[1], pitch_y[5], pitch_y[5]]\n",
    "\n",
    "    lx3 = [0, pitch_x[3], pitch_x[3], 0]\n",
    "    ly3 = [pitch_y[1], pitch_y[1], pitch_y[5], pitch_y[5]]\n",
    "\n",
    "    # goals\n",
    "    lx4 = [x_max, x_max+2, x_max+2, x_max]\n",
    "    ly4 = [goal_y[0], goal_y[0], goal_y[1], goal_y[1]]\n",
    "\n",
    "    lx5 = [0, -2, -2, 0]\n",
    "    ly5 = [goal_y[0], goal_y[0], goal_y[1], goal_y[1]]\n",
    "\n",
    "    # 6 yard boxes\n",
    "    lx6 = [x_max, pitch_x[7], pitch_x[7], x_max]\n",
    "    ly6 = [pitch_y[2],pitch_y[2], pitch_y[4], pitch_y[4]]\n",
    "\n",
    "    lx7 = [0, pitch_x[1], pitch_x[1], 0]\n",
    "    ly7 = [pitch_y[2],pitch_y[2], pitch_y[4], pitch_y[4]]\n",
    "\n",
    "\n",
    "    # Halfway line, penalty spots, and kickoff spot\n",
    "    lx8 = [pitch_x[4], pitch_x[4]]\n",
    "    ly8 = [0, y_max]\n",
    "\n",
    "    lines = [\n",
    "        [lx1, ly1],\n",
    "        [lx2, ly2],\n",
    "        [lx3, ly3],\n",
    "        [lx4, ly4],\n",
    "        [lx5, ly5],\n",
    "        [lx6, ly6],\n",
    "        [lx7, ly7],\n",
    "        [lx8, ly8],\n",
    "        ]\n",
    "\n",
    "    points = [\n",
    "        [pitch_x[6], pitch_y[3]],\n",
    "        [pitch_x[2], pitch_y[3]],\n",
    "        [pitch_x[4], pitch_y[3]]\n",
    "        ]\n",
    "\n",
    "    circle_points = [pitch_x[4], pitch_y[3]]\n",
    "    arc_points1 = [pitch_x[6], pitch_y[3]]\n",
    "    arc_points2 = [pitch_x[2], pitch_y[3]]\n",
    "\n",
    "\n",
    "    for line in lines:\n",
    "        ax.plot(line[first], line[second],\n",
    "                color=line_color,\n",
    "                lw=line_thickness,\n",
    "                zorder=-1)\n",
    "\n",
    "    for point in points:\n",
    "        ax.scatter(point[first], point[second],\n",
    "                   color=line_color,\n",
    "                   s=point_size,\n",
    "                   zorder=-1)\n",
    "\n",
    "    circle = plt.Circle((circle_points[first], circle_points[second]),\n",
    "                        x_max * 0.088,\n",
    "                        lw=line_thickness,\n",
    "                        color=line_color,\n",
    "                        fill=False,\n",
    "                        zorder=-1)\n",
    "\n",
    "    ax.add_artist(circle)\n",
    "\n",
    "    arc1 = Arc((arc_points1[first], arc_points1[second]),\n",
    "               height=x_max * 0.088 * 2,\n",
    "               width=x_max * 0.088 * 2,\n",
    "               angle=arc_angle,\n",
    "               theta1=128.75,\n",
    "               theta2=231.25,\n",
    "               color=line_color,\n",
    "               lw=line_thickness,\n",
    "               zorder=-1)\n",
    "\n",
    "    ax.add_artist(arc1)\n",
    "\n",
    "    arc2 = Arc((arc_points2[first], arc_points2[second]),\n",
    "               height=x_max * 0.088 * 2,\n",
    "               width=x_max * 0.088 * 2,\n",
    "               angle=arc_angle,\n",
    "               theta1=308.75,\n",
    "               theta2=51.25,\n",
    "               color=line_color,\n",
    "               lw=line_thickness,\n",
    "               zorder=-1)\n",
    "\n",
    "    ax.add_artist(arc2)\n",
    "\n",
    "    ax.set_aspect(\"equal\")\n",
    "\n",
    "    return ax"
   ]
  },
  {
   "cell_type": "markdown",
   "metadata": {},
   "source": [
    "### Notebook Settings"
   ]
  },
  {
   "cell_type": "code",
   "execution_count": 7,
   "metadata": {},
   "outputs": [],
   "source": [
    "# Display all columns of pandas DataFrames\n",
    "pd.set_option('display.max_columns', None)"
   ]
  },
  {
   "cell_type": "markdown",
   "metadata": {},
   "source": [
    "---\n",
    "\n",
    "## <a id='#section2'>2. Project Brief</a>"
   ]
  },
  {
   "cell_type": "markdown",
   "metadata": {},
   "source": [
    "### <a id='#section2.1'>2.1. About this notebook</a>\n",
    "In most real-world machine-learning tasks, a well-calibrated gradient booster such as lightGBM or XGBoost outperforms Logistic Regression when using the same set of features.\n",
    "\n",
    "Often, smartly, hand-crafted features can bring a Logistic Regression to an (almost) similiar performance as when using Gradient Boosting algorithms. This is especially true when dealing with rather simple problems with a relatively small number of features.\n",
    "\n",
    "Using the engineered dataset in the first notebook, the following sections build upon this modeling, using gradient boosting algorithms, to try and further reduce the Log Loss of the model and improve upon the potential predictions made upon the Metrica Sports data, to analyse which team was more deserving to with the game based solely on the chances created.\n",
    "\n",
    "This notebook builds upon the work conducted in the first Chance Quality notebook, created using a trained Logistic Regression model, and to further improve the performance using [XGBoost](https://xgboost.readthedocs.io/en/latest/) . The model uses the engineered dataset of 11,000 shots dervied in the previous notebook, using [pandas](http://pandas.pydata.org/) DataFrames for data manipulation and [matplotlib](https://matplotlib.org/contents.html?v=20200411155018) for data visualisation.\n",
    "\n",
    "**Notebook Conventions**:<br>\n",
    "*    Variables that refer a `DataFrame` object are prefixed with `df_`.\n",
    "*    Variables that refer to a collection of `DataFrame` objects (e.g., a list, a set or a dict) are prefixed with `dfs_`."
   ]
  },
  {
   "cell_type": "markdown",
   "metadata": {},
   "source": [
    "### <a id='#section2.2'>2.2. Challenge</a>\n",
    "Defined in the previous notebook but included here as a reminders of the big picture.\n",
    "\n",
    "<b>Step 1:</b>\n",
    "We have attached to this email a sample of just under 11,000 shots (ShotData.csv, and the associated description in ShotData.txt). We would like you to use this data to build a chance quality model that calculates the probability of a shot resulting in a goal (i.e. P[goal|shot,situation]) using whichever situational variables in the data you think are informative. We ask that you provide a description of the method that you chose, including any metrics and plots that you have used to understand and assess the performance of your model. This description may take the form of a short written report (no more than one page of text plus additional room for figures & tables) or a slide pack (PowerPoint, Google slides, etc; no more than a total of 10 slides).\n",
    "\n",
    "<b>Step 2:</b>\n",
    "In the second step we ask you to work with the tracking data for a single game to analyse the shooting opportunities that each team created. In this github repository* you will find the tracking data for two matches, along with a description of the data. Using the data for sample game 2 in the repository, identify the shots in this game and write a short report describing the major chances that each team created during the game, making use of the chance quality model that you developed in Step 1 and any other information that you think is relevant. Based solely on the quality of chances that each team created, which team do you think deserved to win the game? Your report may take the form of a document (1 page plus additional room for figures & tables) or presentation (no more than 10 slides).\n",
    "\n",
    "This notebook is concerned with <b>Step 1</b> - building a Chance Quality Model, using XGBoost."
   ]
  },
  {
   "cell_type": "markdown",
   "metadata": {},
   "source": [
    "### <a id='#section2.3'>2.3. What is XGBoost?</a>\n",
    "XGBoost stands for **eXtreme Gradient Boosting** and is a performant Machine Learning algorithm based on the paper [Greedy Function Approximation: A Gradient Boosting Machine by Friedman](https://statweb.stanford.edu/~jhf/ftp/trebst.pdf). XGBoost implements a [Gradient Boosting](https://en.wikipedia.org/wiki/Gradient_boosting) algorithm based on decision trees.\n",
    "\n",
    "This notebook aims to hopefully serve as an explanatory guide of XGBoost for beginners and those with previous experience alike and goes into much more detail about this algorithm in the follow sections"
   ]
  },
  {
   "cell_type": "markdown",
   "metadata": {},
   "source": [
    "### <a id='#section2.4'>2.4. Modelling Approach</a>\n",
    "This model will build upon the work done in the first notebook in the series, that builds a Chance Quality Model from Logistic Regression and looks to improve on the results using the popular XGBoost algorithm. The approach taken in this notebook can be defined as the following:\n",
    "\n",
    "*    <b>Introduction to XGBoost</b>: introduction to the concept of XGBoost ([section 3](#section3));\n",
    "*    <b>Bagging Vs. Boosting</b>:  ([section 4](#section4));\n",
    "*    <b>Theory Behind the XGBoost Algorithm</b>:  ([section 5](#section5));\n",
    "*    <b>Data Sources</b>:  ([section 6](#section6));\n",
    "*    <b>Initial Modeling</b>: First model created as a baseline for which iterations of improvement are based. ([section 7](#section7));\n",
    "*    <b>k-fold Cross Validation using XGBoost</b>: ([section 8](#section8));\n",
    "*    <b>Feature Importance with XGBoost</b>: ([section 9](#section9));\n",
    "*    <b>Visualisation of XGBoost Tree</b>: ([section 10](#section10));\n",
    "*    <b>Hyperparameter Optimisation</b>: ([section 11](#section11));\n",
    "*    <b>Final Optimised XGBoost Model</b>: ([section 12](#section12));\n",
    "*    <b>Performance Comparison of XGBoost with Logistic Regression</b>: ([section 13](#section13));\n",
    "*    <b>Assessment of the Performance of the Teams in Game 2 of the Metrica Sports Shot Data</b>: ([section 14](#section14));\n",
    "*    <b>Summary</b>: ([section 15](#section15));\n",
    "*    <b>Next Steps</b>: ([section 16](#section16)); and\n",
    "*    <b>References and Further Reading</b>: ([section 17](#section17))."
   ]
  },
  {
   "cell_type": "markdown",
   "metadata": {},
   "source": [
    "--\n",
    "\n",
    "## <a id='#section3'>3. Introduction to XGBoost</a>\n",
    "*    XGBoost stands for **Extreme Gradient Boosting**.\n",
    "*    It is a performant machine learning library based on the paper [Greedy Function Approximation: A Gradient Boosting Machine by Friedman](https://statweb.stanford.edu/~jhf/ftp/trebst.pdf).\n",
    "*    It is an open source machine learning library providing a high-performance implementation of gradient boosted decision trees.\n",
    "*    It is originally written in C++ and is comparatively faster than other ensemble classifiers.\n",
    "*    It belongs to a family of boosting algorithms and uses the gradient boosting (GBM) framework at its core.\n",
    "*    XGBoost implements a Gradient Boosting algorithm based on decision trees.\n",
    "*    As part of the further explanation, Graidient Boosting algorithms are discussed in later sections.\n",
    "*    The following link are Please follow the links below for more in-depth discussion on XGBoost.\n",
    "     +    [XGBoost Official Documentation](https://xgboost.readthedocs.io/en/latest/)\n",
    "     +    [XGBoost Wiki](https://en.wikipedia.org/wiki/XGBoost)"
   ]
  },
  {
   "cell_type": "markdown",
   "metadata": {},
   "source": [
    "### <a id='#section3.1'>3.1. What makes XGBoost so popular?</a>\n",
    "*    Speed and performance : Originally written in C++, it is comparatively faster than other ensemble classifiers.\n",
    "*    Core algorithm is parallelizable : Because the core XGBoost algorithm is parallelizable it can harness the power of multi-core computers. It is also parallelizable onto GPU’s and across networks of computers making it feasible to train on very large datasets as well.\n",
    "*    Consistently outperforms other algorithm methods : It has shown better performance on a variety of machine learning benchmark datasets.\n",
    "*    Wide variety of tuning parameters : XGBoost internally has parameters for cross-validation, regularization, user-defined objective functions, missing values, tree parameters, scikit-learn compatible API etc."
   ]
  },
  {
   "cell_type": "markdown",
   "metadata": {},
   "source": [
    "### <a id='#section3.2'>3.2. Evolution of tree-based algorithms </a>\n",
    "*    The tree based algorithms have evolved over the years.\n",
    "*    XGBoost belongs to a family of tree-based algorithms.\n",
    "*    Please see the chart below for the evolution of tree-based algorithms over the years.\n",
    "\n",
    "![title](../../img/tree_based_algorithms_evolution.jpeg)"
   ]
  },
  {
   "cell_type": "markdown",
   "metadata": {},
   "source": [
    "### <a id='#section3.3'>3.3. Evolution of tree-based algorithms</a>\n",
    "*    The primary reasons we should use this algorithm are its **accuracy, efficiency and feasibility**.\n",
    "*    It is a linear model and a [tree learning](https://en.wikipedia.org/wiki/Decision_tree_learning) algorithm that does parallel computations on a single machine.\n",
    "*    It also has extra features for doing cross validation and computing feature importance.\n",
    "*    Given below are some of the main features of the model:\n",
    "     +    **Sparsity**: It accepts sparse input for tree booster and linear booster.\n",
    "     +    **Customization**: It supports customized objective and evaluation functions.\n",
    "     +    **DMatrix**: Its optimized data structure that improves its performance and efficiency."
   ]
  },
  {
   "cell_type": "markdown",
   "metadata": {},
   "source": [
    "---\n",
    "\n",
    "## <a id='#section4'>4. Bagging Vs Boosting</a>\n",
    "*    To know bagging and boosting, we need to know ensemble methods.\n",
    "*    Ensemble methods combine several decision trees to produce better predictive performance than utilizing a single decision tree.\n",
    "*    The main principle behind the ensemble model is that a group of weak learners come together to form a strong learner.\n",
    "*    Now, we will talk about two techniques to perform ensemble decision trees. These are as follows:\n",
    "     1.    Bagging\n",
    "     2.    Boosting\n",
    "\n",
    "Please refer to my previous kernel - Bagging vs Boosting for detailed discussion on Bagging and Boosting."
   ]
  },
  {
   "cell_type": "markdown",
   "metadata": {},
   "source": [
    "---\n",
    "\n",
    "### <a id='#section4.1'>4.1. Bagging</a>\n",
    "*    Bagging (or Bootstrap Aggregation), is a simple and very powerful ensemble method.\n",
    "*    Bagging is the application of the Bootstrap procedure to a high-variance machine learning algorithm, typically decision trees.\n",
    "*    The idea behind bagging is combining the results of multiple models (for instance, all decision trees) to get a generalized result.\n",
    "*    Bagging technique uses these subsets (bags) to get a fair idea of the distribution (complete set). The size of subsets created for bagging may be less than the original set.\n",
    "*    Bagging had each model run independently and then aggregate the outputs at the end without preference to any model.\n",
    "*    Bagging can be depicted with the following diagram\n",
    "\n",
    "![title](../../img/bagging.png)"
   ]
  },
  {
   "cell_type": "markdown",
   "metadata": {},
   "source": [
    "---\n",
    "\n",
    "### <a id='#section4.2'>4.2. Boosting</a>\n",
    "*    Boosting is a sequential process, where each subsequent model attempts to correct the errors of the previous model. The succeeding models are dependent on the previous model.\n",
    "*    In this technique, learners are learned sequentially with early learners fitting simple models to the data and then analyzing data for errors. In other words, we fit consecutive trees (random sample) and at every step, the goal is to solve for net error from the prior tree.\n",
    "*    When an input is misclassified by a hypothesis, its weight is increased so that next hypothesis is more likely to classify it correctly. By combining the whole set at the end converts weak learners into better performing model.\n",
    "*    Boosting is another ensemble technique to create a collection of models.\n",
    "*    In this technique, models are learned sequentially with early models fitting simple models to the data and then analyzing the data for errors.\n",
    "*    In other words, with boosting, we fit consecutive trees and at every step.\n",
    "*    Boosting can be depicted with the following diagram:\n",
    "\n",
    "![title](../../img/boosting.png)"
   ]
  },
  {
   "cell_type": "markdown",
   "metadata": {},
   "source": [
    "---\n",
    "\n",
    "## <a id='#section5'>5. Theory Hehind the XGBoost Algorithm</a>\n",
    "*    XGBoost is a powerful and lightning fast machine learning library. It’s commonly used to win Kaggle competitions.\n",
    "*    It’s an intimidating algorithm, especially because of the number of large parameters that XGBoost provides.\n",
    "*    Also, there is some confusion regarding gradient boosting, gradient boosted trees and XGBoost.\n",
    "*    So, in this section, we will discuss - **gradient boosting**, **gradient boosted trees** and **XGBoost**. The purpose of this section is to clarify these concepts."
   ]
  },
  {
   "cell_type": "markdown",
   "metadata": {},
   "source": [
    "### <a id='#section5.1'>5.1. XGBoost Algorithm Intuition</a>\n",
    "*    Gradient boosting is a machine learning technique for regression and classification problems, which produces a prediction model in the form of an ensemble of weak prediction models, typically decision trees.\n",
    "*    It builds the model in a stage-wise fashion like other boosting methods do and it generalizes them by allowing optimization of an arbitrary differentiable loss function.\n",
    "*    The objective of any supervised learning algorithm is to define a loss function and minimize it. The same is true for Gradient Boosting algorithm. Here, we have mean squared error (MSE) as loss-function defined as follows:\n",
    "\n",
    "![title](../../img/mse_loss_function_formula.png)\n",
    "\n",
    "*    We want our predictions, such that our loss function (MSE) is minimum.\n",
    "*    By using gradient descent and updating our predictions based on a learning rate, we can find the values where MSE is minimum.\n",
    "*    It can be depicted as follows:\n",
    "\n",
    "![title](../../img/mse_minima.png)\n",
    "\n",
    "*    So, we are basically updating the predictions such that the sum of our residuals is close to 0 (or minimum) and predicted values are sufficiently close to actual values.\n",
    "*    Now, we train our second model on the gradient of the error with respect to the loss predictions of the first model. Thus, we should correct the mistakes of the first model.\n",
    "*    This is the core of gradient boosting, and what allows many simple models to compensate for each other’s weaknesses to better fit the data.\n",
    "*    Gradient Boosting is an iterative procedure. So, we will repeat the above process over and over again. Each time we fit a new model to the gradient of the error of the updated sum of models.\n",
    "*    So, gradient boosting is a method for optimizing the function F, but it doesn’t really care about h (since nothing about the optimization of h is defined). This means that any base model h can be used to construct F."
   ]
  },
  {
   "cell_type": "markdown",
   "metadata": {},
   "source": [
    "### <a id='#section5.2'>5.2. XGBoost Algorithm Intuition</a>\n",
    "*    Gradient boosted trees consider the special case where the simple model h is a decision tree.\n",
    "*    It can be depicted with the following diagram which is taken from XGBoost’s documentation.\n",
    "\n",
    "![title](../../img/gradient_boosted_trees.png)\n",
    "\n",
    "*    In this case, there are 2 kinds of parameters P - the weights at each leaf w and the number of leaves T in each tree (so that in the above example, T=3 and w=[2, 0.1, -1]).\n",
    "*    When building a decision tree, a challenge is to decide how to split a current leaf. For instance, in the above image, how could we add another layer to the (age > 15) leaf.\n",
    "*    A ‘greedy’ way to do this is to consider every possible split on the remaining features (so, gender and occupation), and calculate the new loss for each split. We could then pick the tree which most reduces our loss.\n",
    "\n",
    "![title](../../img/new_tree_loss.png)\n",
    "\n",
    "*    In addition to finding the new tree structures, the weights at each node need to be calculated as well, such that the loss is minimized. Since the tree structure is now fixed, this can be done analytically now by setting the loss function = 0.\n",
    "*    After derivation, we get the following result.\n",
    "\n",
    "![title](../../img/weights_derivation.png)\n",
    "\n",
    "*    Where I_j is a set containing all the instances ((x, y) datapoints) at a leaf, and w_j is the weight at leaf j.\n",
    "*    This looks more intimidating than it is; for some intuition, if we consider loss=MSE=(y,ŷ )^2, then taking the first and second gradients where ŷ =0 yields.\n",
    "\n",
    "![title](../../img/weights_second_derivation.png)\n",
    "\n",
    "*    Here, the weights effectively become the average of the true labels at each leaf (with some regularization from the λ constant)."
   ]
  },
  {
   "cell_type": "markdown",
   "metadata": {},
   "source": [
    "### <a id='#section5.3'>5.3. Extreme Gradient Boosting (XGBoost)</a>\n",
    "*    XGBoost is one of the fastest implementations of gradient boosted trees. It does this by tackling one of the major inefficiencies of gradient boosted trees.\n",
    "*    Consider the case where there are thousands of features, and therefore thousands of possible splits. Now, if we consider the potential loss for all possible splits to create a new branch we have thousands of potential splits and losses.\n",
    "*    XGBoost tackles this inefficiency by looking at the distribution of features across all data points in a leaf and using this information to reduce the search space of possible feature splits.\n",
    "*    Although XGBoost implements a few regularization tricks, this speed up is by far the most useful feature of the library, allowing many hyperparameter settings to be investigated quickly.\n",
    "*    This is helpful because there are many hyperparameters to tune which are designed to limit overfitting."
   ]
  },
  {
   "cell_type": "markdown",
   "metadata": {},
   "source": [
    "---\n",
    "\n",
    "## <a id='#section6'>6. Data Sources</a>\n",
    "The following cells read in the engineered Shots data as a CSV file. The original dataset of just under 11,000 shots was provided by Laurie Shaw from City Football Group."
   ]
  },
  {
   "cell_type": "markdown",
   "metadata": {},
   "source": [
    "### <a id='#section6.1'>6.1. Data Dictionary</a>\n",
    "The following information is as per the definition in the `ShotData.txt` documentation, provided with the data.\n",
    "\n",
    "The raw shots DataFrame has ten features (columns) with the following definitions and data types:\n",
    "\n",
    "| Feature                           | Variables Type     | Data Type    | Description    |\n",
    "|-----------------------------------|--------------------|--------------|--------------------------------------|\n",
    "| `match_minute`                    | continuous         | int64        | minute of the match in which the shot was taken     |\n",
    "| `match_second`                    | continuous         | int64        | second of match_minute in which the shot was taken     |\n",
    "| `position_x`                      | continuous         | float64      | position of the shot on the pitch in meters (x-coordinate)     |\n",
    "| `position_y`                      | continuous         | float64      | position of the shot on the pitch in meters (y-coordinate)     |\n",
    "| `play_type`                       | categorical        | object       | game situation in which the shot was taken (open play, penalty, direct free kick, direct from a corner)     |\n",
    "| `BodyPart`                        | categorical        | object       | body part with which shot was taken (left foot, right foot, head, other)                        |\n",
    "| `Number_Intervening_Opponents`    | discrete           | int64        | The number of opposing players that were obscuring the goal at the instant of the shot (from the perspective of the shot-taker)     |\n",
    "| `Number_Intervening_Teammates`    | discrete           | int64        | The number of teammates that are obscuring the goal at the instant of the shot (from the perspective of the shot-taker)     |\n",
    "| `Interference_on_Shooter`         | categorical        | object       | The degree of direct interference exerted on the shot-taker from defenders (Low - no or minimal interference, Medium - a single defender was in close proximity to the shot-taker; High - multiple defenders in close proximity and interfering with the shot).     |\n",
    "| `outcome`                         | discrete.          | object       | The outcome of the shot (blocked, missed, goal frame (post or bar), saved, goal or own goal).     |\n",
    "\n",
    "Each row consists of a single shot event. \n",
    "\n",
    "Positions are quoted in meters, with the origin located at the centre of the goal. The x-coordinate measures perpendicular distance from the goal line while the y-coordinate measures perpendicular distance from the line that joins the centre spot and the centre of the goal. For example, a penalty is at co-ordinates (10.97, 0) meters."
   ]
  },
  {
   "cell_type": "markdown",
   "metadata": {},
   "source": [
    "'match_minute', 'match_second', 'position_x', 'position_y', 'play_type',\n",
    "       'BodyPart', 'Number_Intervening_Opponents',\n",
    "       'Number_Intervening_Teammates', 'Interference_on_Shooter', 'outcome',\n",
    "       'position_xM', 'position_yM', 'position_xM_r', 'position_yM_r',\n",
    "       'position_xM_std', 'position_yM_std', 'position_xM_std_r',\n",
    "       'position_yM_std_r', 'Interference_on_Shooter_Code', 'BodyPartCode',\n",
    "       'isGoal', 'distance_to_goalM', 'distance_to_centerM', 'angle', 'isFoot',\n",
    "       'isHead', 'header_distance_to_goalM', 'High', 'Low', 'Medium'"
   ]
  },
  {
   "cell_type": "markdown",
   "metadata": {},
   "source": [
    "### <a id='#section6.2'>6.2. Read in CSV as pandas DataFrame</a>\n",
    "The following cell read the the `CSV` file as a pandas `DataFrame`."
   ]
  },
  {
   "cell_type": "code",
   "execution_count": 8,
   "metadata": {},
   "outputs": [
    {
     "name": "stdout",
     "output_type": "stream",
     "text": [
      "['../../data/shots/engineered/train_shots_engineered.csv', '../../data/shots/engineered/test_shots_engineered.csv', '../../data/shots/engineered/complete_shots_engineered.csv']\n"
     ]
    }
   ],
   "source": [
    "# Read data directory\n",
    "print(glob.glob(os.path.join(data_dir_shots, 'engineered/*')))"
   ]
  },
  {
   "cell_type": "code",
   "execution_count": 9,
   "metadata": {},
   "outputs": [],
   "source": [
    "# Read in engineered Shots CSVs as a pandas DataFrames\n",
    "df_shots = pd.read_csv(os.path.join(data_dir_shots, 'engineered', 'complete_shots_engineered.csv'))\n",
    "df_shots_train = pd.read_csv(os.path.join(data_dir_shots, 'engineered', 'train_shots_engineered.csv'))\n",
    "df_shots_test = pd.read_csv(os.path.join(data_dir_shots, 'engineered', 'test_shots_engineered.csv'))"
   ]
  },
  {
   "cell_type": "markdown",
   "metadata": {},
   "source": [
    "### <a id='#section6.3'>6.3. Initial Data Handling</a>\n",
    "Let's quality of the dataset by looking first and last rows in pandas using the [head()](https://pandas.pydata.org/pandas-docs/stable/reference/api/pandas.DataFrame.head.html) and [tail()](https://pandas.pydata.org/pandas-docs/stable/reference/api/pandas.DataFrame.tail.html) methods."
   ]
  },
  {
   "cell_type": "code",
   "execution_count": 10,
   "metadata": {},
   "outputs": [
    {
     "data": {
      "text/html": [
       "<div>\n",
       "<style scoped>\n",
       "    .dataframe tbody tr th:only-of-type {\n",
       "        vertical-align: middle;\n",
       "    }\n",
       "\n",
       "    .dataframe tbody tr th {\n",
       "        vertical-align: top;\n",
       "    }\n",
       "\n",
       "    .dataframe thead th {\n",
       "        text-align: right;\n",
       "    }\n",
       "</style>\n",
       "<table border=\"1\" class=\"dataframe\">\n",
       "  <thead>\n",
       "    <tr style=\"text-align: right;\">\n",
       "      <th></th>\n",
       "      <th>match_minute</th>\n",
       "      <th>match_second</th>\n",
       "      <th>position_x</th>\n",
       "      <th>position_y</th>\n",
       "      <th>play_type</th>\n",
       "      <th>BodyPart</th>\n",
       "      <th>Number_Intervening_Opponents</th>\n",
       "      <th>Number_Intervening_Teammates</th>\n",
       "      <th>Interference_on_Shooter</th>\n",
       "      <th>outcome</th>\n",
       "      <th>position_xM</th>\n",
       "      <th>position_yM</th>\n",
       "      <th>position_xM_r</th>\n",
       "      <th>position_yM_r</th>\n",
       "      <th>position_xM_std</th>\n",
       "      <th>position_yM_std</th>\n",
       "      <th>position_xM_std_r</th>\n",
       "      <th>position_yM_std_r</th>\n",
       "      <th>Interference_on_Shooter_Code</th>\n",
       "      <th>BodyPartCode</th>\n",
       "      <th>isGoal</th>\n",
       "      <th>distance_to_goalM</th>\n",
       "      <th>distance_to_centerM</th>\n",
       "      <th>angle</th>\n",
       "      <th>isFoot</th>\n",
       "      <th>isHead</th>\n",
       "      <th>header_distance_to_goalM</th>\n",
       "      <th>High</th>\n",
       "      <th>Low</th>\n",
       "      <th>Medium</th>\n",
       "    </tr>\n",
       "  </thead>\n",
       "  <tbody>\n",
       "    <tr>\n",
       "      <th>0</th>\n",
       "      <td>87</td>\n",
       "      <td>48</td>\n",
       "      <td>22.94</td>\n",
       "      <td>-3.24</td>\n",
       "      <td>Open Play</td>\n",
       "      <td>Right</td>\n",
       "      <td>3</td>\n",
       "      <td>1</td>\n",
       "      <td>Low</td>\n",
       "      <td>Missed</td>\n",
       "      <td>30.06</td>\n",
       "      <td>-3.247642</td>\n",
       "      <td>-30.06</td>\n",
       "      <td>3.247642</td>\n",
       "      <td>83.06</td>\n",
       "      <td>30.752358</td>\n",
       "      <td>136.06</td>\n",
       "      <td>64.752358</td>\n",
       "      <td>1</td>\n",
       "      <td>2</td>\n",
       "      <td>0</td>\n",
       "      <td>23.168746</td>\n",
       "      <td>3.247642</td>\n",
       "      <td>8.057879</td>\n",
       "      <td>1</td>\n",
       "      <td>0</td>\n",
       "      <td>0.000000</td>\n",
       "      <td>0</td>\n",
       "      <td>1</td>\n",
       "      <td>0</td>\n",
       "    </tr>\n",
       "    <tr>\n",
       "      <th>1</th>\n",
       "      <td>57</td>\n",
       "      <td>20</td>\n",
       "      <td>9.23</td>\n",
       "      <td>8.48</td>\n",
       "      <td>Open Play</td>\n",
       "      <td>Right</td>\n",
       "      <td>1</td>\n",
       "      <td>0</td>\n",
       "      <td>Medium</td>\n",
       "      <td>Saved</td>\n",
       "      <td>43.77</td>\n",
       "      <td>8.500000</td>\n",
       "      <td>-43.77</td>\n",
       "      <td>-8.500000</td>\n",
       "      <td>96.77</td>\n",
       "      <td>42.500000</td>\n",
       "      <td>149.77</td>\n",
       "      <td>76.500000</td>\n",
       "      <td>2</td>\n",
       "      <td>2</td>\n",
       "      <td>0</td>\n",
       "      <td>12.547625</td>\n",
       "      <td>8.500000</td>\n",
       "      <td>42.642284</td>\n",
       "      <td>1</td>\n",
       "      <td>0</td>\n",
       "      <td>0.000000</td>\n",
       "      <td>0</td>\n",
       "      <td>0</td>\n",
       "      <td>1</td>\n",
       "    </tr>\n",
       "    <tr>\n",
       "      <th>2</th>\n",
       "      <td>55</td>\n",
       "      <td>58</td>\n",
       "      <td>20.70</td>\n",
       "      <td>5.74</td>\n",
       "      <td>Open Play</td>\n",
       "      <td>Right</td>\n",
       "      <td>3</td>\n",
       "      <td>0</td>\n",
       "      <td>Medium</td>\n",
       "      <td>Blocked</td>\n",
       "      <td>32.30</td>\n",
       "      <td>5.753538</td>\n",
       "      <td>-32.30</td>\n",
       "      <td>-5.753538</td>\n",
       "      <td>85.30</td>\n",
       "      <td>39.753538</td>\n",
       "      <td>138.30</td>\n",
       "      <td>73.753538</td>\n",
       "      <td>2</td>\n",
       "      <td>2</td>\n",
       "      <td>0</td>\n",
       "      <td>21.484720</td>\n",
       "      <td>5.753538</td>\n",
       "      <td>15.533201</td>\n",
       "      <td>1</td>\n",
       "      <td>0</td>\n",
       "      <td>0.000000</td>\n",
       "      <td>0</td>\n",
       "      <td>0</td>\n",
       "      <td>1</td>\n",
       "    </tr>\n",
       "    <tr>\n",
       "      <th>3</th>\n",
       "      <td>87</td>\n",
       "      <td>33</td>\n",
       "      <td>16.71</td>\n",
       "      <td>-9.48</td>\n",
       "      <td>Open Play</td>\n",
       "      <td>Left</td>\n",
       "      <td>2</td>\n",
       "      <td>0</td>\n",
       "      <td>Medium</td>\n",
       "      <td>Goal</td>\n",
       "      <td>36.29</td>\n",
       "      <td>-9.502358</td>\n",
       "      <td>-36.29</td>\n",
       "      <td>9.502358</td>\n",
       "      <td>89.29</td>\n",
       "      <td>24.497642</td>\n",
       "      <td>142.29</td>\n",
       "      <td>58.497642</td>\n",
       "      <td>2</td>\n",
       "      <td>1</td>\n",
       "      <td>1</td>\n",
       "      <td>19.222875</td>\n",
       "      <td>9.502358</td>\n",
       "      <td>29.625287</td>\n",
       "      <td>1</td>\n",
       "      <td>0</td>\n",
       "      <td>0.000000</td>\n",
       "      <td>0</td>\n",
       "      <td>0</td>\n",
       "      <td>1</td>\n",
       "    </tr>\n",
       "    <tr>\n",
       "      <th>4</th>\n",
       "      <td>70</td>\n",
       "      <td>50</td>\n",
       "      <td>7.73</td>\n",
       "      <td>4.49</td>\n",
       "      <td>Open Play</td>\n",
       "      <td>Head</td>\n",
       "      <td>3</td>\n",
       "      <td>0</td>\n",
       "      <td>Medium</td>\n",
       "      <td>Missed</td>\n",
       "      <td>45.27</td>\n",
       "      <td>4.500590</td>\n",
       "      <td>-45.27</td>\n",
       "      <td>-4.500590</td>\n",
       "      <td>98.27</td>\n",
       "      <td>38.500590</td>\n",
       "      <td>151.27</td>\n",
       "      <td>72.500590</td>\n",
       "      <td>2</td>\n",
       "      <td>3</td>\n",
       "      <td>0</td>\n",
       "      <td>8.944731</td>\n",
       "      <td>4.500590</td>\n",
       "      <td>30.208981</td>\n",
       "      <td>0</td>\n",
       "      <td>1</td>\n",
       "      <td>8.944731</td>\n",
       "      <td>0</td>\n",
       "      <td>0</td>\n",
       "      <td>1</td>\n",
       "    </tr>\n",
       "  </tbody>\n",
       "</table>\n",
       "</div>"
      ],
      "text/plain": [
       "   match_minute  match_second  position_x  position_y  play_type BodyPart  \\\n",
       "0            87            48       22.94       -3.24  Open Play    Right   \n",
       "1            57            20        9.23        8.48  Open Play    Right   \n",
       "2            55            58       20.70        5.74  Open Play    Right   \n",
       "3            87            33       16.71       -9.48  Open Play     Left   \n",
       "4            70            50        7.73        4.49  Open Play     Head   \n",
       "\n",
       "   Number_Intervening_Opponents  Number_Intervening_Teammates  \\\n",
       "0                             3                             1   \n",
       "1                             1                             0   \n",
       "2                             3                             0   \n",
       "3                             2                             0   \n",
       "4                             3                             0   \n",
       "\n",
       "  Interference_on_Shooter  outcome  position_xM  position_yM  position_xM_r  \\\n",
       "0                     Low   Missed        30.06    -3.247642         -30.06   \n",
       "1                  Medium    Saved        43.77     8.500000         -43.77   \n",
       "2                  Medium  Blocked        32.30     5.753538         -32.30   \n",
       "3                  Medium     Goal        36.29    -9.502358         -36.29   \n",
       "4                  Medium   Missed        45.27     4.500590         -45.27   \n",
       "\n",
       "   position_yM_r  position_xM_std  position_yM_std  position_xM_std_r  \\\n",
       "0       3.247642            83.06        30.752358             136.06   \n",
       "1      -8.500000            96.77        42.500000             149.77   \n",
       "2      -5.753538            85.30        39.753538             138.30   \n",
       "3       9.502358            89.29        24.497642             142.29   \n",
       "4      -4.500590            98.27        38.500590             151.27   \n",
       "\n",
       "   position_yM_std_r  Interference_on_Shooter_Code  BodyPartCode  isGoal  \\\n",
       "0          64.752358                             1             2       0   \n",
       "1          76.500000                             2             2       0   \n",
       "2          73.753538                             2             2       0   \n",
       "3          58.497642                             2             1       1   \n",
       "4          72.500590                             2             3       0   \n",
       "\n",
       "   distance_to_goalM  distance_to_centerM      angle  isFoot  isHead  \\\n",
       "0          23.168746             3.247642   8.057879       1       0   \n",
       "1          12.547625             8.500000  42.642284       1       0   \n",
       "2          21.484720             5.753538  15.533201       1       0   \n",
       "3          19.222875             9.502358  29.625287       1       0   \n",
       "4           8.944731             4.500590  30.208981       0       1   \n",
       "\n",
       "   header_distance_to_goalM  High  Low  Medium  \n",
       "0                  0.000000     0    1       0  \n",
       "1                  0.000000     0    0       1  \n",
       "2                  0.000000     0    0       1  \n",
       "3                  0.000000     0    0       1  \n",
       "4                  8.944731     0    0       1  "
      ]
     },
     "execution_count": 10,
     "metadata": {},
     "output_type": "execute_result"
    }
   ],
   "source": [
    "# Display the first 5 rows of the engineered DataFrame, df_shots\n",
    "df_shots.head()"
   ]
  },
  {
   "cell_type": "code",
   "execution_count": 11,
   "metadata": {},
   "outputs": [
    {
     "data": {
      "text/html": [
       "<div>\n",
       "<style scoped>\n",
       "    .dataframe tbody tr th:only-of-type {\n",
       "        vertical-align: middle;\n",
       "    }\n",
       "\n",
       "    .dataframe tbody tr th {\n",
       "        vertical-align: top;\n",
       "    }\n",
       "\n",
       "    .dataframe thead th {\n",
       "        text-align: right;\n",
       "    }\n",
       "</style>\n",
       "<table border=\"1\" class=\"dataframe\">\n",
       "  <thead>\n",
       "    <tr style=\"text-align: right;\">\n",
       "      <th></th>\n",
       "      <th>match_minute</th>\n",
       "      <th>match_second</th>\n",
       "      <th>position_x</th>\n",
       "      <th>position_y</th>\n",
       "      <th>play_type</th>\n",
       "      <th>BodyPart</th>\n",
       "      <th>Number_Intervening_Opponents</th>\n",
       "      <th>Number_Intervening_Teammates</th>\n",
       "      <th>Interference_on_Shooter</th>\n",
       "      <th>outcome</th>\n",
       "      <th>position_xM</th>\n",
       "      <th>position_yM</th>\n",
       "      <th>position_xM_r</th>\n",
       "      <th>position_yM_r</th>\n",
       "      <th>position_xM_std</th>\n",
       "      <th>position_yM_std</th>\n",
       "      <th>position_xM_std_r</th>\n",
       "      <th>position_yM_std_r</th>\n",
       "      <th>Interference_on_Shooter_Code</th>\n",
       "      <th>BodyPartCode</th>\n",
       "      <th>isGoal</th>\n",
       "      <th>distance_to_goalM</th>\n",
       "      <th>distance_to_centerM</th>\n",
       "      <th>angle</th>\n",
       "      <th>isFoot</th>\n",
       "      <th>isHead</th>\n",
       "      <th>header_distance_to_goalM</th>\n",
       "      <th>High</th>\n",
       "      <th>Low</th>\n",
       "      <th>Medium</th>\n",
       "    </tr>\n",
       "  </thead>\n",
       "  <tbody>\n",
       "    <tr>\n",
       "      <th>10160</th>\n",
       "      <td>65</td>\n",
       "      <td>10</td>\n",
       "      <td>7.48</td>\n",
       "      <td>13.72</td>\n",
       "      <td>Open Play</td>\n",
       "      <td>Left</td>\n",
       "      <td>1</td>\n",
       "      <td>0</td>\n",
       "      <td>Medium</td>\n",
       "      <td>Missed</td>\n",
       "      <td>45.52</td>\n",
       "      <td>13.752358</td>\n",
       "      <td>-45.52</td>\n",
       "      <td>-13.752358</td>\n",
       "      <td>98.52</td>\n",
       "      <td>47.752358</td>\n",
       "      <td>151.52</td>\n",
       "      <td>81.752358</td>\n",
       "      <td>2</td>\n",
       "      <td>1</td>\n",
       "      <td>0</td>\n",
       "      <td>15.654960</td>\n",
       "      <td>13.752358</td>\n",
       "      <td>61.457934</td>\n",
       "      <td>1</td>\n",
       "      <td>0</td>\n",
       "      <td>0.0</td>\n",
       "      <td>0</td>\n",
       "      <td>0</td>\n",
       "      <td>1</td>\n",
       "    </tr>\n",
       "    <tr>\n",
       "      <th>10161</th>\n",
       "      <td>78</td>\n",
       "      <td>46</td>\n",
       "      <td>18.21</td>\n",
       "      <td>12.47</td>\n",
       "      <td>Open Play</td>\n",
       "      <td>Left</td>\n",
       "      <td>4</td>\n",
       "      <td>0</td>\n",
       "      <td>Medium</td>\n",
       "      <td>Missed</td>\n",
       "      <td>34.79</td>\n",
       "      <td>12.499410</td>\n",
       "      <td>-34.79</td>\n",
       "      <td>-12.499410</td>\n",
       "      <td>87.79</td>\n",
       "      <td>46.499410</td>\n",
       "      <td>140.79</td>\n",
       "      <td>80.499410</td>\n",
       "      <td>2</td>\n",
       "      <td>1</td>\n",
       "      <td>0</td>\n",
       "      <td>22.087086</td>\n",
       "      <td>12.499410</td>\n",
       "      <td>34.465846</td>\n",
       "      <td>1</td>\n",
       "      <td>0</td>\n",
       "      <td>0.0</td>\n",
       "      <td>0</td>\n",
       "      <td>0</td>\n",
       "      <td>1</td>\n",
       "    </tr>\n",
       "    <tr>\n",
       "      <th>10162</th>\n",
       "      <td>90</td>\n",
       "      <td>16</td>\n",
       "      <td>8.48</td>\n",
       "      <td>-1.75</td>\n",
       "      <td>Open Play</td>\n",
       "      <td>Right</td>\n",
       "      <td>1</td>\n",
       "      <td>0</td>\n",
       "      <td>Low</td>\n",
       "      <td>Missed</td>\n",
       "      <td>44.52</td>\n",
       "      <td>-1.754127</td>\n",
       "      <td>-44.52</td>\n",
       "      <td>1.754127</td>\n",
       "      <td>97.52</td>\n",
       "      <td>32.245873</td>\n",
       "      <td>150.52</td>\n",
       "      <td>66.245873</td>\n",
       "      <td>1</td>\n",
       "      <td>2</td>\n",
       "      <td>0</td>\n",
       "      <td>8.659524</td>\n",
       "      <td>1.754127</td>\n",
       "      <td>11.687066</td>\n",
       "      <td>1</td>\n",
       "      <td>0</td>\n",
       "      <td>0.0</td>\n",
       "      <td>0</td>\n",
       "      <td>1</td>\n",
       "      <td>0</td>\n",
       "    </tr>\n",
       "    <tr>\n",
       "      <th>10163</th>\n",
       "      <td>23</td>\n",
       "      <td>58</td>\n",
       "      <td>10.47</td>\n",
       "      <td>8.48</td>\n",
       "      <td>Open Play</td>\n",
       "      <td>Left</td>\n",
       "      <td>2</td>\n",
       "      <td>0</td>\n",
       "      <td>High</td>\n",
       "      <td>Blocked</td>\n",
       "      <td>42.53</td>\n",
       "      <td>8.500000</td>\n",
       "      <td>-42.53</td>\n",
       "      <td>-8.500000</td>\n",
       "      <td>95.53</td>\n",
       "      <td>42.500000</td>\n",
       "      <td>148.53</td>\n",
       "      <td>76.500000</td>\n",
       "      <td>3</td>\n",
       "      <td>1</td>\n",
       "      <td>0</td>\n",
       "      <td>13.485952</td>\n",
       "      <td>8.500000</td>\n",
       "      <td>39.071190</td>\n",
       "      <td>1</td>\n",
       "      <td>0</td>\n",
       "      <td>0.0</td>\n",
       "      <td>1</td>\n",
       "      <td>0</td>\n",
       "      <td>0</td>\n",
       "    </tr>\n",
       "    <tr>\n",
       "      <th>10164</th>\n",
       "      <td>36</td>\n",
       "      <td>16</td>\n",
       "      <td>19.20</td>\n",
       "      <td>13.47</td>\n",
       "      <td>Open Play</td>\n",
       "      <td>Left</td>\n",
       "      <td>7</td>\n",
       "      <td>3</td>\n",
       "      <td>Medium</td>\n",
       "      <td>Missed</td>\n",
       "      <td>33.80</td>\n",
       "      <td>13.501769</td>\n",
       "      <td>-33.80</td>\n",
       "      <td>-13.501769</td>\n",
       "      <td>86.80</td>\n",
       "      <td>47.501769</td>\n",
       "      <td>139.80</td>\n",
       "      <td>81.501769</td>\n",
       "      <td>2</td>\n",
       "      <td>1</td>\n",
       "      <td>0</td>\n",
       "      <td>23.472063</td>\n",
       "      <td>13.501769</td>\n",
       "      <td>35.115543</td>\n",
       "      <td>1</td>\n",
       "      <td>0</td>\n",
       "      <td>0.0</td>\n",
       "      <td>0</td>\n",
       "      <td>0</td>\n",
       "      <td>1</td>\n",
       "    </tr>\n",
       "  </tbody>\n",
       "</table>\n",
       "</div>"
      ],
      "text/plain": [
       "       match_minute  match_second  position_x  position_y  play_type BodyPart  \\\n",
       "10160            65            10        7.48       13.72  Open Play     Left   \n",
       "10161            78            46       18.21       12.47  Open Play     Left   \n",
       "10162            90            16        8.48       -1.75  Open Play    Right   \n",
       "10163            23            58       10.47        8.48  Open Play     Left   \n",
       "10164            36            16       19.20       13.47  Open Play     Left   \n",
       "\n",
       "       Number_Intervening_Opponents  Number_Intervening_Teammates  \\\n",
       "10160                             1                             0   \n",
       "10161                             4                             0   \n",
       "10162                             1                             0   \n",
       "10163                             2                             0   \n",
       "10164                             7                             3   \n",
       "\n",
       "      Interference_on_Shooter  outcome  position_xM  position_yM  \\\n",
       "10160                  Medium   Missed        45.52    13.752358   \n",
       "10161                  Medium   Missed        34.79    12.499410   \n",
       "10162                     Low   Missed        44.52    -1.754127   \n",
       "10163                    High  Blocked        42.53     8.500000   \n",
       "10164                  Medium   Missed        33.80    13.501769   \n",
       "\n",
       "       position_xM_r  position_yM_r  position_xM_std  position_yM_std  \\\n",
       "10160         -45.52     -13.752358            98.52        47.752358   \n",
       "10161         -34.79     -12.499410            87.79        46.499410   \n",
       "10162         -44.52       1.754127            97.52        32.245873   \n",
       "10163         -42.53      -8.500000            95.53        42.500000   \n",
       "10164         -33.80     -13.501769            86.80        47.501769   \n",
       "\n",
       "       position_xM_std_r  position_yM_std_r  Interference_on_Shooter_Code  \\\n",
       "10160             151.52          81.752358                             2   \n",
       "10161             140.79          80.499410                             2   \n",
       "10162             150.52          66.245873                             1   \n",
       "10163             148.53          76.500000                             3   \n",
       "10164             139.80          81.501769                             2   \n",
       "\n",
       "       BodyPartCode  isGoal  distance_to_goalM  distance_to_centerM  \\\n",
       "10160             1       0          15.654960            13.752358   \n",
       "10161             1       0          22.087086            12.499410   \n",
       "10162             2       0           8.659524             1.754127   \n",
       "10163             1       0          13.485952             8.500000   \n",
       "10164             1       0          23.472063            13.501769   \n",
       "\n",
       "           angle  isFoot  isHead  header_distance_to_goalM  High  Low  Medium  \n",
       "10160  61.457934       1       0                       0.0     0    0       1  \n",
       "10161  34.465846       1       0                       0.0     0    0       1  \n",
       "10162  11.687066       1       0                       0.0     0    1       0  \n",
       "10163  39.071190       1       0                       0.0     1    0       0  \n",
       "10164  35.115543       1       0                       0.0     0    0       1  "
      ]
     },
     "execution_count": 11,
     "metadata": {},
     "output_type": "execute_result"
    }
   ],
   "source": [
    "# Display the last 5 rows of the engineered DataFrame, df_shots\n",
    "df_shots.tail()"
   ]
  },
  {
   "cell_type": "code",
   "execution_count": 12,
   "metadata": {},
   "outputs": [
    {
     "name": "stdout",
     "output_type": "stream",
     "text": [
      "(10165, 30)\n"
     ]
    }
   ],
   "source": [
    "# Print the shape of the engineered DataFrame, df_shots\n",
    "print(df_shots.shape)"
   ]
  },
  {
   "cell_type": "code",
   "execution_count": 13,
   "metadata": {},
   "outputs": [
    {
     "name": "stdout",
     "output_type": "stream",
     "text": [
      "(7105, 30)\n"
     ]
    }
   ],
   "source": [
    "# Print the shape of the test engineered DataFrame, df_shots_train\n",
    "print(df_shots_train.shape)"
   ]
  },
  {
   "cell_type": "code",
   "execution_count": 14,
   "metadata": {},
   "outputs": [
    {
     "name": "stdout",
     "output_type": "stream",
     "text": [
      "(3060, 30)\n"
     ]
    }
   ],
   "source": [
    "# Print the shape of the test engineered DataFrame, df_shots_test\n",
    "print(df_shots_test.shape)"
   ]
  },
  {
   "cell_type": "code",
   "execution_count": 15,
   "metadata": {},
   "outputs": [
    {
     "name": "stdout",
     "output_type": "stream",
     "text": [
      "Index(['match_minute', 'match_second', 'position_x', 'position_y', 'play_type',\n",
      "       'BodyPart', 'Number_Intervening_Opponents',\n",
      "       'Number_Intervening_Teammates', 'Interference_on_Shooter', 'outcome',\n",
      "       'position_xM', 'position_yM', 'position_xM_r', 'position_yM_r',\n",
      "       'position_xM_std', 'position_yM_std', 'position_xM_std_r',\n",
      "       'position_yM_std_r', 'Interference_on_Shooter_Code', 'BodyPartCode',\n",
      "       'isGoal', 'distance_to_goalM', 'distance_to_centerM', 'angle', 'isFoot',\n",
      "       'isHead', 'header_distance_to_goalM', 'High', 'Low', 'Medium'],\n",
      "      dtype='object')\n"
     ]
    }
   ],
   "source": [
    "# Print the column names of the engineered DataFrame, df_shots\n",
    "print(df_shots.columns)"
   ]
  },
  {
   "cell_type": "markdown",
   "metadata": {},
   "source": [
    "The dataset has thirty features (columns). Full details of these attributes can be found in the [Data Dictionary](section3.3.1)."
   ]
  },
  {
   "cell_type": "code",
   "execution_count": 16,
   "metadata": {},
   "outputs": [
    {
     "data": {
      "text/plain": [
       "match_minute                      int64\n",
       "match_second                      int64\n",
       "position_x                      float64\n",
       "position_y                      float64\n",
       "play_type                        object\n",
       "BodyPart                         object\n",
       "Number_Intervening_Opponents      int64\n",
       "Number_Intervening_Teammates      int64\n",
       "Interference_on_Shooter          object\n",
       "outcome                          object\n",
       "position_xM                     float64\n",
       "position_yM                     float64\n",
       "position_xM_r                   float64\n",
       "position_yM_r                   float64\n",
       "position_xM_std                 float64\n",
       "position_yM_std                 float64\n",
       "position_xM_std_r               float64\n",
       "position_yM_std_r               float64\n",
       "Interference_on_Shooter_Code      int64\n",
       "BodyPartCode                      int64\n",
       "isGoal                            int64\n",
       "distance_to_goalM               float64\n",
       "distance_to_centerM             float64\n",
       "angle                           float64\n",
       "isFoot                            int64\n",
       "isHead                            int64\n",
       "header_distance_to_goalM        float64\n",
       "High                              int64\n",
       "Low                               int64\n",
       "Medium                            int64\n",
       "dtype: object"
      ]
     },
     "execution_count": 16,
     "metadata": {},
     "output_type": "execute_result"
    }
   ],
   "source": [
    "# Data types of the features of the engineered DataFrame, df_shots\n",
    "df_shots.dtypes"
   ]
  },
  {
   "cell_type": "markdown",
   "metadata": {},
   "source": [
    "Full details of these attributes and their data types can be found in the [Data Dictionary](section3.3.1)."
   ]
  },
  {
   "cell_type": "code",
   "execution_count": 17,
   "metadata": {},
   "outputs": [
    {
     "name": "stdout",
     "output_type": "stream",
     "text": [
      "The engineered shots DataFrame contains 10,165 shots and 1,160 goals (11.4%).\n",
      "\n",
      "The dataset contains the following columns: ['match_minute', 'match_second', 'position_x', 'position_y', 'play_type', 'BodyPart', 'Number_Intervening_Opponents', 'Number_Intervening_Teammates', 'Interference_on_Shooter', 'outcome', 'position_xM', 'position_yM', 'position_xM_r', 'position_yM_r', 'position_xM_std', 'position_yM_std', 'position_xM_std_r', 'position_yM_std_r', 'Interference_on_Shooter_Code', 'BodyPartCode', 'isGoal', 'distance_to_goalM', 'distance_to_centerM', 'angle', 'isFoot', 'isHead', 'header_distance_to_goalM', 'High', 'Low', 'Medium']\n",
      "\n",
      "Unique values in the 'play_type' column: ['Open Play']\n",
      "\n",
      "Unique values in the 'BodyPart' column: ['Right' 'Left' 'Head']\n",
      "\n",
      "Unique values in the 'Interference_on_Shooter' column: ['Low' 'Medium' 'High']\n",
      "\n",
      "Unique values in the 'outcome' column: ['Missed' 'Saved' 'Blocked' 'Goal' 'GoalFrame']\n",
      "\n"
     ]
    }
   ],
   "source": [
    "# Print statements about the dataset\n",
    "\n",
    "## Assign variables\n",
    "count_shots = len(df_shots)\n",
    "count_goals = len(df_shots[(df_shots['outcome'] == 'Goal') | (df_shots['outcome'] == 'owngoal')])\n",
    "cols = list(df_shots)\n",
    "vals_play_type = df_shots['play_type'].unique()\n",
    "vals_body_part = df_shots['BodyPart'].unique()\n",
    "vals_interference = df_shots['Interference_on_Shooter'].unique()\n",
    "vals_outcome = df_shots['outcome'].unique()\n",
    "\n",
    "## Print statements\n",
    "print(f'The engineered shots DataFrame contains {count_shots:,} shots and {count_goals:,} goals ({round(100*count_goals/count_shots,1)}%).\\n')\n",
    "print(f\"The dataset contains the following columns: {cols}\\n\")\n",
    "print(f\"Unique values in the 'play_type' column: {vals_play_type}\\n\")    \n",
    "print(f\"Unique values in the 'BodyPart' column: {vals_body_part}\\n\")    \n",
    "print(f\"Unique values in the 'Interference_on_Shooter' column: {vals_interference}\\n\")    \n",
    "print(f\"Unique values in the 'outcome' column: {vals_outcome}\\n\")    "
   ]
  },
  {
   "cell_type": "code",
   "execution_count": 18,
   "metadata": {
    "scrolled": true
   },
   "outputs": [
    {
     "data": {
      "text/plain": [
       "outcome\n",
       "Blocked      1981\n",
       "Goal         1160\n",
       "GoalFrame     194\n",
       "Missed       4074\n",
       "Saved        2756\n",
       "Name: outcome, dtype: int64"
      ]
     },
     "execution_count": 18,
     "metadata": {},
     "output_type": "execute_result"
    }
   ],
   "source": [
    "# Shot outcomes types and their frequency\n",
    "df_shots.groupby(['outcome']).outcome.count()"
   ]
  },
  {
   "cell_type": "code",
   "execution_count": 19,
   "metadata": {},
   "outputs": [
    {
     "data": {
      "text/plain": [
       "Interference_on_Shooter\n",
       "High      1674\n",
       "Low       3375\n",
       "Medium    5116\n",
       "Name: outcome, dtype: int64"
      ]
     },
     "execution_count": 19,
     "metadata": {},
     "output_type": "execute_result"
    }
   ],
   "source": [
    "# Shot interference types and their frequency\n",
    "df_shots.groupby(['Interference_on_Shooter']).outcome.count()"
   ]
  },
  {
   "cell_type": "code",
   "execution_count": 20,
   "metadata": {},
   "outputs": [
    {
     "name": "stdout",
     "output_type": "stream",
     "text": [
      "<class 'pandas.core.frame.DataFrame'>\n",
      "RangeIndex: 10165 entries, 0 to 10164\n",
      "Data columns (total 30 columns):\n",
      " #   Column                        Non-Null Count  Dtype  \n",
      "---  ------                        --------------  -----  \n",
      " 0   match_minute                  10165 non-null  int64  \n",
      " 1   match_second                  10165 non-null  int64  \n",
      " 2   position_x                    10165 non-null  float64\n",
      " 3   position_y                    10165 non-null  float64\n",
      " 4   play_type                     10165 non-null  object \n",
      " 5   BodyPart                      10165 non-null  object \n",
      " 6   Number_Intervening_Opponents  10165 non-null  int64  \n",
      " 7   Number_Intervening_Teammates  10165 non-null  int64  \n",
      " 8   Interference_on_Shooter       10165 non-null  object \n",
      " 9   outcome                       10165 non-null  object \n",
      " 10  position_xM                   10165 non-null  float64\n",
      " 11  position_yM                   10165 non-null  float64\n",
      " 12  position_xM_r                 10165 non-null  float64\n",
      " 13  position_yM_r                 10165 non-null  float64\n",
      " 14  position_xM_std               10165 non-null  float64\n",
      " 15  position_yM_std               10165 non-null  float64\n",
      " 16  position_xM_std_r             10165 non-null  float64\n",
      " 17  position_yM_std_r             10165 non-null  float64\n",
      " 18  Interference_on_Shooter_Code  10165 non-null  int64  \n",
      " 19  BodyPartCode                  10165 non-null  int64  \n",
      " 20  isGoal                        10165 non-null  int64  \n",
      " 21  distance_to_goalM             10165 non-null  float64\n",
      " 22  distance_to_centerM           10165 non-null  float64\n",
      " 23  angle                         10165 non-null  float64\n",
      " 24  isFoot                        10165 non-null  int64  \n",
      " 25  isHead                        10165 non-null  int64  \n",
      " 26  header_distance_to_goalM      10165 non-null  float64\n",
      " 27  High                          10165 non-null  int64  \n",
      " 28  Low                           10165 non-null  int64  \n",
      " 29  Medium                        10165 non-null  int64  \n",
      "dtypes: float64(14), int64(12), object(4)\n",
      "memory usage: 2.3+ MB\n"
     ]
    }
   ],
   "source": [
    "# Info for the raw DataFrame, df_shots\n",
    "df_shots.info()"
   ]
  },
  {
   "cell_type": "code",
   "execution_count": 21,
   "metadata": {},
   "outputs": [
    {
     "data": {
      "text/html": [
       "<div>\n",
       "<style scoped>\n",
       "    .dataframe tbody tr th:only-of-type {\n",
       "        vertical-align: middle;\n",
       "    }\n",
       "\n",
       "    .dataframe tbody tr th {\n",
       "        vertical-align: top;\n",
       "    }\n",
       "\n",
       "    .dataframe thead th {\n",
       "        text-align: right;\n",
       "    }\n",
       "</style>\n",
       "<table border=\"1\" class=\"dataframe\">\n",
       "  <thead>\n",
       "    <tr style=\"text-align: right;\">\n",
       "      <th></th>\n",
       "      <th>match_minute</th>\n",
       "      <th>match_second</th>\n",
       "      <th>position_x</th>\n",
       "      <th>position_y</th>\n",
       "      <th>Number_Intervening_Opponents</th>\n",
       "      <th>Number_Intervening_Teammates</th>\n",
       "      <th>position_xM</th>\n",
       "      <th>position_yM</th>\n",
       "      <th>position_xM_r</th>\n",
       "      <th>position_yM_r</th>\n",
       "      <th>position_xM_std</th>\n",
       "      <th>position_yM_std</th>\n",
       "      <th>position_xM_std_r</th>\n",
       "      <th>position_yM_std_r</th>\n",
       "      <th>Interference_on_Shooter_Code</th>\n",
       "      <th>BodyPartCode</th>\n",
       "      <th>isGoal</th>\n",
       "      <th>distance_to_goalM</th>\n",
       "      <th>distance_to_centerM</th>\n",
       "      <th>angle</th>\n",
       "      <th>isFoot</th>\n",
       "      <th>isHead</th>\n",
       "      <th>header_distance_to_goalM</th>\n",
       "      <th>High</th>\n",
       "      <th>Low</th>\n",
       "      <th>Medium</th>\n",
       "    </tr>\n",
       "  </thead>\n",
       "  <tbody>\n",
       "    <tr>\n",
       "      <th>count</th>\n",
       "      <td>10165.000000</td>\n",
       "      <td>10165.00000</td>\n",
       "      <td>10165.000000</td>\n",
       "      <td>10165.000000</td>\n",
       "      <td>10165.000000</td>\n",
       "      <td>10165.000000</td>\n",
       "      <td>10165.000000</td>\n",
       "      <td>10165.000000</td>\n",
       "      <td>10165.000000</td>\n",
       "      <td>10165.000000</td>\n",
       "      <td>10165.000000</td>\n",
       "      <td>10165.000000</td>\n",
       "      <td>10165.000000</td>\n",
       "      <td>10165.000000</td>\n",
       "      <td>10165.000000</td>\n",
       "      <td>10165.000000</td>\n",
       "      <td>10165.000000</td>\n",
       "      <td>10165.000000</td>\n",
       "      <td>10165.000000</td>\n",
       "      <td>10165.000000</td>\n",
       "      <td>10165.000000</td>\n",
       "      <td>10165.000000</td>\n",
       "      <td>10165.000000</td>\n",
       "      <td>10165.000000</td>\n",
       "      <td>10165.000000</td>\n",
       "      <td>10165.000000</td>\n",
       "    </tr>\n",
       "    <tr>\n",
       "      <th>mean</th>\n",
       "      <td>48.530644</td>\n",
       "      <td>29.32848</td>\n",
       "      <td>14.312324</td>\n",
       "      <td>0.375165</td>\n",
       "      <td>2.416527</td>\n",
       "      <td>0.288342</td>\n",
       "      <td>38.687676</td>\n",
       "      <td>0.376050</td>\n",
       "      <td>-38.687676</td>\n",
       "      <td>-0.376050</td>\n",
       "      <td>91.687676</td>\n",
       "      <td>34.376050</td>\n",
       "      <td>144.687676</td>\n",
       "      <td>68.376050</td>\n",
       "      <td>1.832661</td>\n",
       "      <td>1.857550</td>\n",
       "      <td>0.112346</td>\n",
       "      <td>16.903458</td>\n",
       "      <td>7.260149</td>\n",
       "      <td>28.410262</td>\n",
       "      <td>0.817806</td>\n",
       "      <td>0.182194</td>\n",
       "      <td>1.735838</td>\n",
       "      <td>0.164683</td>\n",
       "      <td>0.332022</td>\n",
       "      <td>0.503296</td>\n",
       "    </tr>\n",
       "    <tr>\n",
       "      <th>std</th>\n",
       "      <td>26.431160</td>\n",
       "      <td>17.29581</td>\n",
       "      <td>7.749255</td>\n",
       "      <td>8.909779</td>\n",
       "      <td>1.190793</td>\n",
       "      <td>0.600396</td>\n",
       "      <td>7.749255</td>\n",
       "      <td>8.930793</td>\n",
       "      <td>7.749255</td>\n",
       "      <td>8.930793</td>\n",
       "      <td>7.749255</td>\n",
       "      <td>8.930793</td>\n",
       "      <td>7.749255</td>\n",
       "      <td>8.930793</td>\n",
       "      <td>0.684652</td>\n",
       "      <td>0.697562</td>\n",
       "      <td>0.315808</td>\n",
       "      <td>7.684998</td>\n",
       "      <td>5.213975</td>\n",
       "      <td>19.056150</td>\n",
       "      <td>0.386023</td>\n",
       "      <td>0.386023</td>\n",
       "      <td>3.932638</td>\n",
       "      <td>0.370912</td>\n",
       "      <td>0.470962</td>\n",
       "      <td>0.500014</td>\n",
       "    </tr>\n",
       "    <tr>\n",
       "      <th>min</th>\n",
       "      <td>0.000000</td>\n",
       "      <td>0.00000</td>\n",
       "      <td>0.250000</td>\n",
       "      <td>-33.920000</td>\n",
       "      <td>0.000000</td>\n",
       "      <td>0.000000</td>\n",
       "      <td>-17.820000</td>\n",
       "      <td>-34.000000</td>\n",
       "      <td>-52.750000</td>\n",
       "      <td>-31.243514</td>\n",
       "      <td>35.180000</td>\n",
       "      <td>0.000000</td>\n",
       "      <td>88.180000</td>\n",
       "      <td>34.000000</td>\n",
       "      <td>1.000000</td>\n",
       "      <td>1.000000</td>\n",
       "      <td>0.000000</td>\n",
       "      <td>0.353971</td>\n",
       "      <td>0.000000</td>\n",
       "      <td>0.000000</td>\n",
       "      <td>0.000000</td>\n",
       "      <td>0.000000</td>\n",
       "      <td>0.000000</td>\n",
       "      <td>0.000000</td>\n",
       "      <td>0.000000</td>\n",
       "      <td>0.000000</td>\n",
       "    </tr>\n",
       "    <tr>\n",
       "      <th>25%</th>\n",
       "      <td>26.000000</td>\n",
       "      <td>14.00000</td>\n",
       "      <td>8.480000</td>\n",
       "      <td>-5.990000</td>\n",
       "      <td>2.000000</td>\n",
       "      <td>0.000000</td>\n",
       "      <td>32.550000</td>\n",
       "      <td>-6.004127</td>\n",
       "      <td>-44.520000</td>\n",
       "      <td>-6.745873</td>\n",
       "      <td>85.550000</td>\n",
       "      <td>27.995873</td>\n",
       "      <td>138.550000</td>\n",
       "      <td>61.995873</td>\n",
       "      <td>1.000000</td>\n",
       "      <td>1.000000</td>\n",
       "      <td>0.000000</td>\n",
       "      <td>10.890511</td>\n",
       "      <td>2.746462</td>\n",
       "      <td>12.145825</td>\n",
       "      <td>1.000000</td>\n",
       "      <td>0.000000</td>\n",
       "      <td>0.000000</td>\n",
       "      <td>0.000000</td>\n",
       "      <td>0.000000</td>\n",
       "      <td>0.000000</td>\n",
       "    </tr>\n",
       "    <tr>\n",
       "      <th>50%</th>\n",
       "      <td>49.000000</td>\n",
       "      <td>29.00000</td>\n",
       "      <td>12.470000</td>\n",
       "      <td>0.500000</td>\n",
       "      <td>2.000000</td>\n",
       "      <td>0.000000</td>\n",
       "      <td>40.530000</td>\n",
       "      <td>0.501179</td>\n",
       "      <td>-40.530000</td>\n",
       "      <td>-0.501179</td>\n",
       "      <td>93.530000</td>\n",
       "      <td>34.501179</td>\n",
       "      <td>146.530000</td>\n",
       "      <td>68.501179</td>\n",
       "      <td>2.000000</td>\n",
       "      <td>2.000000</td>\n",
       "      <td>0.000000</td>\n",
       "      <td>15.594964</td>\n",
       "      <td>6.254717</td>\n",
       "      <td>26.182500</td>\n",
       "      <td>1.000000</td>\n",
       "      <td>0.000000</td>\n",
       "      <td>0.000000</td>\n",
       "      <td>0.000000</td>\n",
       "      <td>0.000000</td>\n",
       "      <td>1.000000</td>\n",
       "    </tr>\n",
       "    <tr>\n",
       "      <th>75%</th>\n",
       "      <td>71.000000</td>\n",
       "      <td>44.00000</td>\n",
       "      <td>20.450000</td>\n",
       "      <td>6.730000</td>\n",
       "      <td>3.000000</td>\n",
       "      <td>0.000000</td>\n",
       "      <td>44.520000</td>\n",
       "      <td>6.745873</td>\n",
       "      <td>-32.550000</td>\n",
       "      <td>6.004127</td>\n",
       "      <td>97.520000</td>\n",
       "      <td>40.745873</td>\n",
       "      <td>150.520000</td>\n",
       "      <td>74.745873</td>\n",
       "      <td>2.000000</td>\n",
       "      <td>2.000000</td>\n",
       "      <td>0.000000</td>\n",
       "      <td>23.041812</td>\n",
       "      <td>11.246462</td>\n",
       "      <td>41.533688</td>\n",
       "      <td>1.000000</td>\n",
       "      <td>0.000000</td>\n",
       "      <td>0.000000</td>\n",
       "      <td>0.000000</td>\n",
       "      <td>1.000000</td>\n",
       "      <td>1.000000</td>\n",
       "    </tr>\n",
       "    <tr>\n",
       "      <th>max</th>\n",
       "      <td>98.000000</td>\n",
       "      <td>59.00000</td>\n",
       "      <td>70.820000</td>\n",
       "      <td>31.170000</td>\n",
       "      <td>11.000000</td>\n",
       "      <td>5.000000</td>\n",
       "      <td>52.750000</td>\n",
       "      <td>31.243514</td>\n",
       "      <td>17.820000</td>\n",
       "      <td>34.000000</td>\n",
       "      <td>105.750000</td>\n",
       "      <td>65.243514</td>\n",
       "      <td>158.750000</td>\n",
       "      <td>99.243514</td>\n",
       "      <td>3.000000</td>\n",
       "      <td>3.000000</td>\n",
       "      <td>1.000000</td>\n",
       "      <td>71.787739</td>\n",
       "      <td>34.000000</td>\n",
       "      <td>87.229153</td>\n",
       "      <td>1.000000</td>\n",
       "      <td>1.000000</td>\n",
       "      <td>71.787739</td>\n",
       "      <td>1.000000</td>\n",
       "      <td>1.000000</td>\n",
       "      <td>1.000000</td>\n",
       "    </tr>\n",
       "  </tbody>\n",
       "</table>\n",
       "</div>"
      ],
      "text/plain": [
       "       match_minute  match_second    position_x    position_y  \\\n",
       "count  10165.000000   10165.00000  10165.000000  10165.000000   \n",
       "mean      48.530644      29.32848     14.312324      0.375165   \n",
       "std       26.431160      17.29581      7.749255      8.909779   \n",
       "min        0.000000       0.00000      0.250000    -33.920000   \n",
       "25%       26.000000      14.00000      8.480000     -5.990000   \n",
       "50%       49.000000      29.00000     12.470000      0.500000   \n",
       "75%       71.000000      44.00000     20.450000      6.730000   \n",
       "max       98.000000      59.00000     70.820000     31.170000   \n",
       "\n",
       "       Number_Intervening_Opponents  Number_Intervening_Teammates  \\\n",
       "count                  10165.000000                  10165.000000   \n",
       "mean                       2.416527                      0.288342   \n",
       "std                        1.190793                      0.600396   \n",
       "min                        0.000000                      0.000000   \n",
       "25%                        2.000000                      0.000000   \n",
       "50%                        2.000000                      0.000000   \n",
       "75%                        3.000000                      0.000000   \n",
       "max                       11.000000                      5.000000   \n",
       "\n",
       "        position_xM   position_yM  position_xM_r  position_yM_r  \\\n",
       "count  10165.000000  10165.000000   10165.000000   10165.000000   \n",
       "mean      38.687676      0.376050     -38.687676      -0.376050   \n",
       "std        7.749255      8.930793       7.749255       8.930793   \n",
       "min      -17.820000    -34.000000     -52.750000     -31.243514   \n",
       "25%       32.550000     -6.004127     -44.520000      -6.745873   \n",
       "50%       40.530000      0.501179     -40.530000      -0.501179   \n",
       "75%       44.520000      6.745873     -32.550000       6.004127   \n",
       "max       52.750000     31.243514      17.820000      34.000000   \n",
       "\n",
       "       position_xM_std  position_yM_std  position_xM_std_r  position_yM_std_r  \\\n",
       "count     10165.000000     10165.000000       10165.000000       10165.000000   \n",
       "mean         91.687676        34.376050         144.687676          68.376050   \n",
       "std           7.749255         8.930793           7.749255           8.930793   \n",
       "min          35.180000         0.000000          88.180000          34.000000   \n",
       "25%          85.550000        27.995873         138.550000          61.995873   \n",
       "50%          93.530000        34.501179         146.530000          68.501179   \n",
       "75%          97.520000        40.745873         150.520000          74.745873   \n",
       "max         105.750000        65.243514         158.750000          99.243514   \n",
       "\n",
       "       Interference_on_Shooter_Code  BodyPartCode        isGoal  \\\n",
       "count                  10165.000000  10165.000000  10165.000000   \n",
       "mean                       1.832661      1.857550      0.112346   \n",
       "std                        0.684652      0.697562      0.315808   \n",
       "min                        1.000000      1.000000      0.000000   \n",
       "25%                        1.000000      1.000000      0.000000   \n",
       "50%                        2.000000      2.000000      0.000000   \n",
       "75%                        2.000000      2.000000      0.000000   \n",
       "max                        3.000000      3.000000      1.000000   \n",
       "\n",
       "       distance_to_goalM  distance_to_centerM         angle        isFoot  \\\n",
       "count       10165.000000         10165.000000  10165.000000  10165.000000   \n",
       "mean           16.903458             7.260149     28.410262      0.817806   \n",
       "std             7.684998             5.213975     19.056150      0.386023   \n",
       "min             0.353971             0.000000      0.000000      0.000000   \n",
       "25%            10.890511             2.746462     12.145825      1.000000   \n",
       "50%            15.594964             6.254717     26.182500      1.000000   \n",
       "75%            23.041812            11.246462     41.533688      1.000000   \n",
       "max            71.787739            34.000000     87.229153      1.000000   \n",
       "\n",
       "             isHead  header_distance_to_goalM          High           Low  \\\n",
       "count  10165.000000              10165.000000  10165.000000  10165.000000   \n",
       "mean       0.182194                  1.735838      0.164683      0.332022   \n",
       "std        0.386023                  3.932638      0.370912      0.470962   \n",
       "min        0.000000                  0.000000      0.000000      0.000000   \n",
       "25%        0.000000                  0.000000      0.000000      0.000000   \n",
       "50%        0.000000                  0.000000      0.000000      0.000000   \n",
       "75%        0.000000                  0.000000      0.000000      1.000000   \n",
       "max        1.000000                 71.787739      1.000000      1.000000   \n",
       "\n",
       "             Medium  \n",
       "count  10165.000000  \n",
       "mean       0.503296  \n",
       "std        0.500014  \n",
       "min        0.000000  \n",
       "25%        0.000000  \n",
       "50%        1.000000  \n",
       "75%        1.000000  \n",
       "max        1.000000  "
      ]
     },
     "execution_count": 21,
     "metadata": {},
     "output_type": "execute_result"
    }
   ],
   "source": [
    "# Description of the raw DataFrame, df_shots, showing some summary statistics for each numerical column in the DataFrame\n",
    "df_shots.describe()"
   ]
  },
  {
   "cell_type": "code",
   "execution_count": 22,
   "metadata": {},
   "outputs": [
    {
     "data": {
      "text/plain": [
       "<AxesSubplot:>"
      ]
     },
     "execution_count": 22,
     "metadata": {},
     "output_type": "execute_result"
    },
    {
     "data": {
      "image/png": "[encoded data removed]",
      "text/plain": [
       "<Figure size 2160x504 with 2 Axes>"
      ]
     },
     "metadata": {},
     "output_type": "display_data"
    }
   ],
   "source": [
    "# Plot visualisation of the missing values for each feature of the engineered DataFrame, df_shots\n",
    "msno.matrix(df_shots, figsize = (30, 7))"
   ]
  },
  {
   "cell_type": "code",
   "execution_count": 23,
   "metadata": {},
   "outputs": [
    {
     "data": {
      "text/plain": [
       "Series([], dtype: int64)"
      ]
     },
     "execution_count": 23,
     "metadata": {},
     "output_type": "execute_result"
    }
   ],
   "source": [
    "# Counts of missing values\n",
    "null_value_stats = df_shots.isnull().sum(axis=0)\n",
    "null_value_stats[null_value_stats != 0]"
   ]
  },
  {
   "cell_type": "markdown",
   "metadata": {},
   "source": [
    "The visualisation shows us very quickly that there are no missing values. Missing values and outliers were treated in the first notebook. The notebook is now ready for modeling with XGBoost."
   ]
  },
  {
   "cell_type": "markdown",
   "metadata": {},
   "source": [
    "---\n",
    "\n",
    "## <a id='#section7'>7. Initial Modeling</a>\n",
    "First model created as a baseline for which interations of improvement are based."
   ]
  },
  {
   "cell_type": "markdown",
   "metadata": {},
   "source": [
    "### <a id='#section7.1'>7.1. Declare feature vector and target variable </a>"
   ]
  },
  {
   "cell_type": "code",
   "execution_count": 24,
   "metadata": {},
   "outputs": [],
   "source": [
    "# Define features, as determined in the Logistic Regression notebook\n",
    "features = ['distance_to_goalM',\n",
    "            'angle',\n",
    "            'Number_Intervening_Opponents',\n",
    "            'Number_Intervening_Teammates',\n",
    "            'isFoot',\n",
    "            'High',\n",
    "            'Low',\n",
    "            'header_distance_to_goalM'\n",
    "           ]\n",
    "\n",
    "X = df_shots[features]\n",
    "y = df_shots['isGoal']"
   ]
  },
  {
   "cell_type": "code",
   "execution_count": 25,
   "metadata": {},
   "outputs": [
    {
     "data": {
      "text/html": [
       "<div>\n",
       "<style scoped>\n",
       "    .dataframe tbody tr th:only-of-type {\n",
       "        vertical-align: middle;\n",
       "    }\n",
       "\n",
       "    .dataframe tbody tr th {\n",
       "        vertical-align: top;\n",
       "    }\n",
       "\n",
       "    .dataframe thead th {\n",
       "        text-align: right;\n",
       "    }\n",
       "</style>\n",
       "<table border=\"1\" class=\"dataframe\">\n",
       "  <thead>\n",
       "    <tr style=\"text-align: right;\">\n",
       "      <th></th>\n",
       "      <th>distance_to_goalM</th>\n",
       "      <th>angle</th>\n",
       "      <th>Number_Intervening_Opponents</th>\n",
       "      <th>Number_Intervening_Teammates</th>\n",
       "      <th>isFoot</th>\n",
       "      <th>High</th>\n",
       "      <th>Low</th>\n",
       "      <th>header_distance_to_goalM</th>\n",
       "    </tr>\n",
       "  </thead>\n",
       "  <tbody>\n",
       "    <tr>\n",
       "      <th>0</th>\n",
       "      <td>23.168746</td>\n",
       "      <td>8.057879</td>\n",
       "      <td>3</td>\n",
       "      <td>1</td>\n",
       "      <td>1</td>\n",
       "      <td>0</td>\n",
       "      <td>1</td>\n",
       "      <td>0.000000</td>\n",
       "    </tr>\n",
       "    <tr>\n",
       "      <th>1</th>\n",
       "      <td>12.547625</td>\n",
       "      <td>42.642284</td>\n",
       "      <td>1</td>\n",
       "      <td>0</td>\n",
       "      <td>1</td>\n",
       "      <td>0</td>\n",
       "      <td>0</td>\n",
       "      <td>0.000000</td>\n",
       "    </tr>\n",
       "    <tr>\n",
       "      <th>2</th>\n",
       "      <td>21.484720</td>\n",
       "      <td>15.533201</td>\n",
       "      <td>3</td>\n",
       "      <td>0</td>\n",
       "      <td>1</td>\n",
       "      <td>0</td>\n",
       "      <td>0</td>\n",
       "      <td>0.000000</td>\n",
       "    </tr>\n",
       "    <tr>\n",
       "      <th>3</th>\n",
       "      <td>19.222875</td>\n",
       "      <td>29.625287</td>\n",
       "      <td>2</td>\n",
       "      <td>0</td>\n",
       "      <td>1</td>\n",
       "      <td>0</td>\n",
       "      <td>0</td>\n",
       "      <td>0.000000</td>\n",
       "    </tr>\n",
       "    <tr>\n",
       "      <th>4</th>\n",
       "      <td>8.944731</td>\n",
       "      <td>30.208981</td>\n",
       "      <td>3</td>\n",
       "      <td>0</td>\n",
       "      <td>0</td>\n",
       "      <td>0</td>\n",
       "      <td>0</td>\n",
       "      <td>8.944731</td>\n",
       "    </tr>\n",
       "  </tbody>\n",
       "</table>\n",
       "</div>"
      ],
      "text/plain": [
       "   distance_to_goalM      angle  Number_Intervening_Opponents  \\\n",
       "0          23.168746   8.057879                             3   \n",
       "1          12.547625  42.642284                             1   \n",
       "2          21.484720  15.533201                             3   \n",
       "3          19.222875  29.625287                             2   \n",
       "4           8.944731  30.208981                             3   \n",
       "\n",
       "   Number_Intervening_Teammates  isFoot  High  Low  header_distance_to_goalM  \n",
       "0                             1       1     0    1                  0.000000  \n",
       "1                             0       1     0    0                  0.000000  \n",
       "2                             0       1     0    0                  0.000000  \n",
       "3                             0       1     0    0                  0.000000  \n",
       "4                             0       0     0    0                  8.944731  "
      ]
     },
     "execution_count": 25,
     "metadata": {},
     "output_type": "execute_result"
    }
   ],
   "source": [
    "X.head()"
   ]
  },
  {
   "cell_type": "code",
   "execution_count": 26,
   "metadata": {},
   "outputs": [
    {
     "data": {
      "text/plain": [
       "0    0\n",
       "1    0\n",
       "2    0\n",
       "3    1\n",
       "4    0\n",
       "Name: isGoal, dtype: int64"
      ]
     },
     "execution_count": 26,
     "metadata": {},
     "output_type": "execute_result"
    }
   ],
   "source": [
    "y.head()"
   ]
  },
  {
   "cell_type": "markdown",
   "metadata": {},
   "source": [
    "### <a id='#section7.2'>7.2. Convert data to Dmatrix\n",
    "Convert the dataset into an optimised data structure called Dmatrix that XGBoost supports and gives it acclaimed performance and efficiency gains."
   ]
  },
  {
   "cell_type": "code",
   "execution_count": 27,
   "metadata": {},
   "outputs": [],
   "source": [
    "# Define data_dmatrix\n",
    "#dtrain = xgb.DMatrix(X_train, label=y_train)\n",
    "#dtest = xgb.DMatrix(X_test, label=y_test)"
   ]
  },
  {
   "cell_type": "markdown",
   "metadata": {},
   "source": [
    "### <a id='#section7.3'>7.3. Split data into separate training and test set "
   ]
  },
  {
   "cell_type": "code",
   "execution_count": 28,
   "metadata": {},
   "outputs": [],
   "source": [
    "# Split X and y into training and testing sets\n",
    "X_train, X_test, y_train, y_test = train_test_split(X, y, test_size=0.3, random_state=42)"
   ]
  },
  {
   "cell_type": "markdown",
   "metadata": {},
   "source": [
    "### <a id='#section7.4'>7.4. Correlation Matrix"
   ]
  },
  {
   "cell_type": "code",
   "execution_count": 29,
   "metadata": {
    "scrolled": true
   },
   "outputs": [
    {
     "ename": "NameError",
     "evalue": "name 'df_train' is not defined",
     "output_type": "error",
     "traceback": [
      "\u001b[0;31m---------------------------------------------------------------------------\u001b[0m",
      "\u001b[0;31mNameError\u001b[0m                                 Traceback (most recent call last)",
      "\u001b[0;32m<ipython-input-29-c9a4b9862bb9>\u001b[0m in \u001b[0;36m<module>\u001b[0;34m\u001b[0m\n\u001b[0;32m----> 1\u001b[0;31m \u001b[0mdf\u001b[0m \u001b[0;34m=\u001b[0m \u001b[0mdf_train\u001b[0m\u001b[0;34m[\u001b[0m\u001b[0mfeatures\u001b[0m\u001b[0;34m]\u001b[0m\u001b[0;34m\u001b[0m\u001b[0;34m\u001b[0m\u001b[0m\n\u001b[0m\u001b[1;32m      2\u001b[0m \u001b[0mcorrmat\u001b[0m \u001b[0;34m=\u001b[0m \u001b[0mdf\u001b[0m\u001b[0;34m.\u001b[0m\u001b[0mcorr\u001b[0m\u001b[0;34m(\u001b[0m\u001b[0;34m)\u001b[0m\u001b[0;34m\u001b[0m\u001b[0;34m\u001b[0m\u001b[0m\n\u001b[1;32m      3\u001b[0m \u001b[0mtop_corr_features\u001b[0m \u001b[0;34m=\u001b[0m \u001b[0mcorrmat\u001b[0m\u001b[0;34m.\u001b[0m\u001b[0mindex\u001b[0m\u001b[0;34m\u001b[0m\u001b[0;34m\u001b[0m\u001b[0m\n\u001b[1;32m      4\u001b[0m \u001b[0mplt\u001b[0m\u001b[0;34m.\u001b[0m\u001b[0mfigure\u001b[0m\u001b[0;34m(\u001b[0m\u001b[0mfigsize\u001b[0m\u001b[0;34m=\u001b[0m\u001b[0;34m(\u001b[0m\u001b[0;36m20\u001b[0m\u001b[0;34m,\u001b[0m\u001b[0;36m20\u001b[0m\u001b[0;34m)\u001b[0m\u001b[0;34m)\u001b[0m\u001b[0;34m\u001b[0m\u001b[0;34m\u001b[0m\u001b[0m\n\u001b[1;32m      5\u001b[0m \u001b[0mg\u001b[0m\u001b[0;34m=\u001b[0m\u001b[0msns\u001b[0m\u001b[0;34m.\u001b[0m\u001b[0mheatmap\u001b[0m\u001b[0;34m(\u001b[0m\u001b[0mdf\u001b[0m\u001b[0;34m.\u001b[0m\u001b[0mcorr\u001b[0m\u001b[0;34m(\u001b[0m\u001b[0;34m)\u001b[0m\u001b[0;34m,\u001b[0m \u001b[0mannot\u001b[0m\u001b[0;34m=\u001b[0m\u001b[0;32mTrue\u001b[0m\u001b[0;34m,\u001b[0m \u001b[0mcmap\u001b[0m\u001b[0;34m=\u001b[0m\u001b[0;34m'RdYlGn'\u001b[0m\u001b[0;34m)\u001b[0m\u001b[0;34m\u001b[0m\u001b[0;34m\u001b[0m\u001b[0m\n",
      "\u001b[0;31mNameError\u001b[0m: name 'df_train' is not defined"
     ]
    }
   ],
   "source": [
    "df = df_train[features]\n",
    "corrmat = df.corr()\n",
    "top_corr_features = corrmat.index\n",
    "plt.figure(figsize=(20,20))\n",
    "g=sns.heatmap(df.corr(), annot=True, cmap='RdYlGn')"
   ]
  },
  {
   "cell_type": "markdown",
   "metadata": {},
   "source": [
    "### <a id='#section7.5'>7.5. Train the Baseline XGBoost Classifier\n",
    "*    In order to train the XGBoost classifier, we need to know different parameters that XGBoost provides.\n",
    "*    We will discuss these parameters in the next section where they will be tuned\n",
    "*    Now, its time to train the XGBoost Classifier.\n",
    "*    We will proceed as follows:"
   ]
  },
  {
   "cell_type": "code",
   "execution_count": null,
   "metadata": {},
   "outputs": [],
   "source": [
    "# Declare initial parameters - will later be tuned      \n",
    "params = {'max_depth': 6,\n",
    "          'min_child_weight': 1,\n",
    "          'eta': 0.3,\n",
    "          'subsample': 1,\n",
    "          'colsample_bytree': 1,\n",
    "          'objective':'binary:logistic'\n",
    "         }\n",
    "    \n",
    "# Instantiate the classifier \n",
    "xgb_clf = XGBClassifier(**params)\n",
    "\n",
    "# Fit the classifier to the training data\n",
    "xgb_clf.fit(X_train, y_train)"
   ]
  },
  {
   "cell_type": "code",
   "execution_count": null,
   "metadata": {},
   "outputs": [],
   "source": [
    "# View the parameters of the xgb trained model\n",
    "print(xgb_clf)"
   ]
  },
  {
   "cell_type": "markdown",
   "metadata": {},
   "source": [
    "### <a id='#section7.6'>7.6. Predictions on Test Data"
   ]
  },
  {
   "cell_type": "code",
   "execution_count": null,
   "metadata": {},
   "outputs": [],
   "source": [
    "# Predict the probabilities of test set\n",
    "y_pred = xgb_clf.predict_proba(X_test)\n",
    "\n",
    "print(\"############\\n# XGBoost #\\n############\")\n",
    "print(f\"Log loss on test set: {sk_metrics.log_loss(y_test, pred_probs):.5f}\")\n",
    "print(f\"AUC on test set: {sk_metrics.roc_auc_score(y_test, pred_probs)*100:.2f}%\")"
   ]
  },
  {
   "cell_type": "code",
   "execution_count": null,
   "metadata": {},
   "outputs": [],
   "source": [
    "predictions = xgb_clf.predict(X_test)"
   ]
  },
  {
   "cell_type": "code",
   "execution_count": null,
   "metadata": {},
   "outputs": [],
   "source": [
    "df_predictions.head()"
   ]
  },
  {
   "cell_type": "code",
   "execution_count": null,
   "metadata": {},
   "outputs": [],
   "source": [
    "# Convert the Probability Predictions array to a pandas DataFrame\n",
    "df_predictions = pd.DataFrame(predictions, index=X_test.index, columns=['Predicted_isGoal_default_params'])\n",
    "\n",
    "# Join the Probability Predictions back onto the original test DataFrame\n",
    "df_test_predictions_initial = pd.merge(X_test, df_predictions, left_index=True, right_index=True)\n",
    "\n",
    "# Display DataFrame\n",
    "df_test_predictions_initial.head()"
   ]
  },
  {
   "cell_type": "markdown",
   "metadata": {},
   "source": [
    "### <a id='#section7.7'>7.7. Evaluation\n",
    "We have the starting XGBoost model, which is performing a lot worse than the Logistic Regression alogirthm, with a Log Loss on test set of 0.34204. To beat the performance of the existing Logistic Regression model, we're looking to reduce this Log Loss to around ~0.280."
   ]
  },
  {
   "cell_type": "markdown",
   "metadata": {},
   "source": [
    "## <a id='#section8'>8. k-fold Cross Validation using XGBoost\n",
    "*    To build more robust models with XGBoost, we should always perform k-fold cross validation.\n",
    "*    In this way, we ensure that the original training dataset is used for both training and validation.\n",
    "*    Also, each entry is used for validation just once.\n",
    "*    XGBoost supports k-fold cross validation using the `cv()` method.\n",
    "*    In this method, we will specify several parameters which are as follows:\n",
    "     +    `nfolds` - This parameter specifies the number of cross-validation sets we want to build.\n",
    "     +    `num_boost_round` - It denotes the number of trees we build.\n",
    "     +    `metrics` - It is the performance evaluation metrics to be considered during CV.\n",
    "     +    `as_pandas` - It is used to return the results in a pandas DataFrame.\n",
    "     +    `early_stopping_rounds` - This parameter stops training of the model early if the hold-out metric does not improve for a given number of rounds.\n",
    "     +    `seed` - This parameter is used for reproducibility of results.\n",
    "\n",
    "We can use these parameters to build a k-fold cross-validation model by calling XGBoost's `CV()` method."
   ]
  },
  {
   "cell_type": "code",
   "execution_count": null,
   "metadata": {},
   "outputs": [],
   "source": [
    "params = {'max_depth': 6,\n",
    "          'min_child_weight': 1,\n",
    "          'eta': 0.3,\n",
    "          'subsample': 1,\n",
    "          'colsample_bytree': 1,\n",
    "          'objective':'binary:logistic'\n",
    "         }\n",
    "\n",
    "xgb_cv = cv(dtrain=data_dmatrix,\n",
    "            params=params,\n",
    "            nfold=3,\n",
    "            num_boost_round=50,\n",
    "            early_stopping_rounds=10,\n",
    "            metrics='logloss',    #'auc',\n",
    "            as_pandas=True,\n",
    "            seed=123\n",
    "           )"
   ]
  },
  {
   "cell_type": "markdown",
   "metadata": {},
   "source": [
    "*    xgb_cv contains train and test auc metrics for each boosting round.\n",
    "*    Let's preview xgb_cv:"
   ]
  },
  {
   "cell_type": "code",
   "execution_count": null,
   "metadata": {},
   "outputs": [],
   "source": [
    "xgb_cv.head()"
   ]
  },
  {
   "cell_type": "markdown",
   "metadata": {},
   "source": [
    "## <a id='#section9'>9. Feature Importance with XGBoost\n",
    "*    XGBoost provides a way to examine the importance of each feature in the original dataset within the model.\n",
    "*    It involves counting the number of times each feature is split on across all boosting trees in the model.\n",
    "*    Then we visualize the result as a bar graph, with the features ordered according to how many times they appear.\n",
    "*    XGBoost has a `plot_importance()` function that helps us to achieve this task.\n",
    "*    Then we can visualize the features that has been given the highest important score among all the features.\n",
    "*    Thus XGBoost provides us a way to do feature selection.\n",
    "*    We will proceed as follows:"
   ]
  },
  {
   "cell_type": "code",
   "execution_count": null,
   "metadata": {},
   "outputs": [],
   "source": [
    "xgb.plot_importance(xgb_clf,\n",
    "                    ax=plt.gca()\n",
    "                   )\n",
    "plt.figure(figsize=(20,15))\n",
    "plt.show()"
   ]
  },
  {
   "cell_type": "markdown",
   "metadata": {},
   "source": [
    "*    We can see that the feature `distance_to_goalM` has been given the highest importance score among all the features.\n",
    "*    Based upon this importance score, we can select the features with highest importance score and discard the redundant ones.\n",
    "*    Thus XGBoost also gives us a way to do feature selection."
   ]
  },
  {
   "cell_type": "markdown",
   "metadata": {},
   "source": [
    "## <a id='#section10'>10. Visualisation of the XGBoost Tree\n",
    "Using `plot_tree`."
   ]
  },
  {
   "cell_type": "code",
   "execution_count": null,
   "metadata": {},
   "outputs": [],
   "source": [
    "xgb.plot_tree(xgb_clf,\n",
    "              ax=plt.gca()\n",
    "             )\n",
    "plt.figure(figsize=(20,15)) \n",
    "plt.show()"
   ]
  },
  {
   "cell_type": "code",
   "execution_count": null,
   "metadata": {},
   "outputs": [],
   "source": [
    "# plot single tree\n",
    "plot_tree(xgb_clf)\n",
    "plt.show()"
   ]
  },
  {
   "cell_type": "markdown",
   "metadata": {},
   "source": [
    "## <a id='#section11'>11. Hyperperameter Optimisation"
   ]
  },
  {
   "cell_type": "markdown",
   "metadata": {},
   "source": [
    "### <a id='#section11.1'>11.1. What are hyperparameters?\n",
    "*    Hyperparameters are certain values or weights that determine the learning process of an algorithm.\n",
    "*    As stated earlier, XGBoost provides large range of hyperparameters. We can leverage the maximum power of XGBoost by tuning its hyperparameters.\n",
    "*    The most powerful ML algorithm like XGBoost is famous for picking up patterns and regularities in the data by automatically tuning thousands of learnable parameters.\n",
    "*    In tree-based models, like XGBoost the learnable parameters are the choice of decision variables at each node.\n",
    "*    XGBoost is a very powerful algorithm. So, it will have more design decisions and hence large hyperparameters. These are parameters specified by hand to the algo and fixed throughout a training phase.\n",
    "*    In tree-based models, hyperparameters include things like the maximum depth of the tree, the number of trees to grow, the number of variables to consider when building each tree, the minimum number of samples on a leaf and the fraction of observations used to build a tree.\n",
    "*    Although we focus on optimizing XGBoost hyperparameters in this kernel, the concepts discussed in this kernel applies to any other advanced ML algorithm as well."
   ]
  },
  {
   "cell_type": "markdown",
   "metadata": {},
   "source": [
    "### <a id='#section11.2'>11.2. Hyperparameter types\n",
    "*    Generally, the XGBoost hyperparameters have been divided into 4 categories. They are as follows:\n",
    "     +    General parameters\n",
    "     +    Booster parameters\n",
    "     +    Learning task parameters\n",
    "     +    Command line parameters\n",
    "\n",
    "Before running a XGBoost model, we must set three types of parameters - general parameters, booster parameters and task parameters.\n",
    "\n",
    "The fourth type of parameter are command line parameters. They are only used in the console version of XGBoost. So, we will skip these parameters and limit our discussion to the first three type of parameters.\n",
    "    \n",
    "The following sections goes into more details about each of these parameters, but the most common ones to know about are:\n",
    "*    `learning_rate`: step size shrinkage used to prevent overfitting. Range is [0,1];\n",
    "*    `max_depth`: determines how deeply each tree is allowed to grow during any boosting round;\n",
    "*    `subsample`: percentage of samples used per tree. Low value can lead to underfitting;\n",
    "*    `colsample_bytree:` percentage of features used per tree. High value can lead to overfitting;\n",
    "*    `n_estimators`: number of trees you want to build;\n",
    "*    `objective`: determines the loss function to be used like reg:linear for regression problems, `reg:logistic` for classification problems with only decision, `binary:logistic` for classification problems with probability;\n",
    "*    `gamma`: controls whether a given node will split based on the expected reduction in loss after the split. A higher value leads to fewer splits. Supported only for tree-based learners;\n",
    "*    `alpha`: L1 regularization on leaf weights. A large value leads to more regularization; and\n",
    "*    `lambda`: L2 regularization on leaf weights and is smoother than L1 regularization.\n",
    "    \n",
    "To read more about these parameters, see the official documentation [[link](http://xgboost.readthedocs.io/en/latest/parameter.html#general-parameters)]."
   ]
  },
  {
   "cell_type": "markdown",
   "metadata": {},
   "source": [
    "#### <a id='#section11.2.1'>11.2.1. General parameters\n",
    "*    These parameters guide the overall functioning of the XGBoost model.\n",
    "*    In this section, we will discuss three hyperparameters - booster, verbosity and nthread.\n",
    "*    Visit the [XGBoost General Parameters](https://xgboost.readthedocs.io/en/latest/parameter.html#general-parameters) official documentation for detailed discussion on general parameters."
   ]
  },
  {
   "cell_type": "markdown",
   "metadata": {},
   "source": [
    "##### <a id='#section11.2.1.1'>11.2.1.1. `booster`\n",
    "*    **booster[default = gbtree]**\n",
    "     +    booster parameter helps us to choose which booster to use.\n",
    "     +    It helps us to select the type of model to run at each iteration.\n",
    "     +    It has 3 options - **gbtree**, **gblinear**, or **dart**.\n",
    "          -    **gbtree** and **dart** - use tree-based models, while\n",
    "          -    **gblinear** uses linear models."
   ]
  },
  {
   "cell_type": "markdown",
   "metadata": {},
   "source": [
    "##### <a id='#section11.2.1.2'>11.2.1.2. `verbosity`\n",
    "*    **verbosity[default = 1]**\n",
    "     +    Verbosity of printing messages.\n",
    "     +    Valid values are 0 (silent), 1 (warning), 2 (info), 3 (debug)."
   ]
  },
  {
   "cell_type": "markdown",
   "metadata": {},
   "source": [
    "##### <a id='#section11.2.1.3'>11.2.1.3. `nthread`\n",
    "*    **nthread [default = maximum number of threads available if not set]**\n",
    "     +    This is number of parallel threads used to run XGBoost.\n",
    "     +    This is used for parallel processing and number of cores in the system should be entered.\n",
    "     +    If you wish to run on all cores, value should not be entered and algorithm will detect automatically."
   ]
  },
  {
   "cell_type": "markdown",
   "metadata": {},
   "source": [
    "There are other general parameters like **disable_default_eval_metric [default=0]**, **num_pbuffer [set automatically by XGBoost, no need to be set by user]** and **num_feature [set automatically by XGBoost, no need to be set by user]**.\n",
    "\n",
    "So, these parameters are taken care by XGBoost algorithm itself. Hence, we will not discuss these further."
   ]
  },
  {
   "cell_type": "markdown",
   "metadata": {},
   "source": [
    "#### <a id='#section11.2.2'>11.2.2. General parameters\n",
    "*    We have two types of boosters - **tree booster** and **linear booster**.\n",
    "*    We will limit our discussion to **tree booster** because it always outperforms the **linear booster** and thus the later is rarely used.\n",
    "*    Visit the [Parameters for Tree Booster](https://xgboost.readthedocs.io/en/latest/parameter.html#parameters-for-tree-booster) official docs, for detailed discussion on booster parameters."
   ]
  },
  {
   "cell_type": "markdown",
   "metadata": {},
   "source": [
    "##### <a id='#section11.2.2.1'>11.2.2.1. `eta`\n",
    "*    **eta [default=0.3, alias: learning_rate]**\n",
    "     +    It is analogous to learning rate in GBM.\n",
    "     +    It is the step size shrinkage used in update to prevent overfitting.\n",
    "     +    After each boosting step, we can directly get the weights of new features, and eta shrinks the feature weights to make the boosting process more conservative.\n",
    "     +    It makes the model more robust by shrinking the weights on each step.\n",
    "     +    range : [0,1]\n",
    "     +    Typical final values : 0.01-0.2."
   ]
  },
  {
   "cell_type": "markdown",
   "metadata": {},
   "source": [
    "##### <a id='#section11.2.2.2'>11.2.2.2. `gamma`\n",
    "*    **eta [default=0.3, alias: learning_rate]**\n",
    "     +    It is analogous to learning rate in GBM.\n",
    "     +    It is the step size shrinkage used in update to prevent overfitting.\n",
    "     +    After each boosting step, we can directly get the weights of new features, and eta shrinks the feature weights to make the boosting process more conservative.\n",
    "     +    It makes the model more robust by shrinking the weights on each step.\n",
    "     +    range : [0,1]\n",
    "     +    Typical final values : 0.01-0.2."
   ]
  },
  {
   "cell_type": "markdown",
   "metadata": {},
   "source": [
    "##### <a id='#section11.2.2.3'>11.2.2.3. `max_depth`\n",
    "*    **max_depth [default=6]**\n",
    "     +    The maximum depth of a tree, same as GBM.\n",
    "     +    It is used to control over-fitting as higher depth will allow model to learn relations very specific to a particular sample.\n",
    "     +    Increasing this value will make the model more complex and more likely to overfit.\n",
    "     +    The value 0 is only accepted in lossguided growing policy when tree_method is set as hist and it indicates no limit on depth.\n",
    "     +    We should be careful when setting large value of max_depth because XGBoost aggressively consumes memory when training a deep tree.\n",
    "     +    range: [0,∞] (0 is only accepted in lossguided growing policy when tree_method is set as hist.\n",
    "     +    Should be tuned using CV.\n",
    "     +    Typical values: 3-10"
   ]
  },
  {
   "cell_type": "code",
   "execution_count": null,
   "metadata": {},
   "outputs": [],
   "source": [
    "# add the rest of the hyperparameter descriptions here\n",
    "# fix numbering"
   ]
  },
  {
   "cell_type": "markdown",
   "metadata": {},
   "source": [
    "### <a id='#section11.3'>11.3. Optimisation\n",
    "Parameters can be optimised in a number of ways, two of which are discussed in the following sections:\n",
    "*    Random Search ([section 11.3.1](#section11.3.1)); and\n",
    "*    Grid Search ([section 11.3.2](#section11.3.2))."
   ]
  },
  {
   "cell_type": "markdown",
   "metadata": {},
   "source": [
    "#### <a id='#section11.3.1'>11.3.1. Random Search"
   ]
  },
  {
   "cell_type": "code",
   "execution_count": null,
   "metadata": {},
   "outputs": [],
   "source": [
    "# A parameter grid for XGBoost\n",
    "params = {'min_child_weight': [1, 5, 10],\n",
    "          'gamma': [0.5, 1, 1.5, 2, 5],\n",
    "          'subsample': [0.6, 0.8, 1.0],\n",
    "          'colsample_bytree': [0.6, 0.8, 1.0],\n",
    "          'max_depth': [3, 4, 5]\n",
    "         }"
   ]
  },
  {
   "cell_type": "code",
   "execution_count": null,
   "metadata": {},
   "outputs": [],
   "source": [
    "xgb_clf = XGBClassifier(learning_rate=0.02,\n",
    "                        n_estimators=600,\n",
    "                        objective='binary:logistic',\n",
    "                        silent=True,\n",
    "                        nthread=1\n",
    "                       )"
   ]
  },
  {
   "cell_type": "code",
   "execution_count": null,
   "metadata": {},
   "outputs": [],
   "source": [
    "folds=3\n",
    "param_comb=5\n",
    "\n",
    "skf = StratifiedKFold(n_splits=folds, shuffle=True, random_state=42)\n",
    "\n",
    "random_search = RandomizedSearchCV(xgb_clf,\n",
    "                                   param_distributions=params,\n",
    "                                   n_iter=param_comb,\n",
    "                                   scoring='neg_log_loss',    # for all scoring metrics see sorted(sklearn.metrics.SCORERS.keys()), link: https://scikit-learn.org/stable/modules/model_evaluation.html\n",
    "                                   n_jobs=4,\n",
    "                                   cv=skf.split(X_train, y_train),\n",
    "                                   verbose=3,\n",
    "                                   random_state=1001\n",
    "                                  )\n",
    "\n",
    "# Run\n",
    "start_time = timer(None)\n",
    "random_search.fit(X_train, y_train)\n",
    "timer(start_time)"
   ]
  },
  {
   "cell_type": "code",
   "execution_count": null,
   "metadata": {},
   "outputs": [],
   "source": [
    "print('\\n All results:')\n",
    "print(random_search.cv_results_)\n",
    "print('\\n Best estimator:')\n",
    "print(random_search.best_estimator_)\n",
    "print('\\n Best normalized gini score for %d-fold search with %d parameter combinations:' % (folds, param_comb))\n",
    "print(random_search.best_score_ * 2 - 1)\n",
    "print('\\n Best hyperparameters:')\n",
    "print(random_search.best_params_)"
   ]
  },
  {
   "cell_type": "code",
   "execution_count": null,
   "metadata": {},
   "outputs": [],
   "source": [
    "y_test_fit = random_search.predict_proba(y_test)\n",
    "df_results_random_search = pd.DataFrame(data={'id':test_df['id'], 'target':y_test_fit[:,1]})\n",
    "#df_results_random_search.to_csv('...csv', index=False)"
   ]
  },
  {
   "cell_type": "markdown",
   "metadata": {},
   "source": [
    "#### <a id='#section11.3.2'>11.3.2. Grid Search"
   ]
  },
  {
   "cell_type": "code",
   "execution_count": null,
   "metadata": {},
   "outputs": [],
   "source": [
    "folds=3\n",
    "param_comb=5\n",
    "\n",
    "skf = StratifiedKFold(n_splits=folds,\n",
    "                      shuffle=True,\n",
    "                      random_state=42\n",
    "                     )\n",
    "\n",
    "grid = GridSearchCV(estimator=xgb_clf,\n",
    "                    param_grid=params,\n",
    "                    scoring='neg_log_loss',\n",
    "                    n_jobs=4,\n",
    "                    cv=skf.split(X_train, y_train),\n",
    "                    verbose=3\n",
    "                   )\n",
    "\n",
    "# Run\n",
    "start_time = timer(None)\n",
    "grid.fit(X_train, y_train)\n",
    "timer(start_time)"
   ]
  },
  {
   "cell_type": "code",
   "execution_count": null,
   "metadata": {},
   "outputs": [],
   "source": [
    "print('\\n All results:')\n",
    "print(grid.cv_results_)\n",
    "print('\\n Best estimator:')\n",
    "print(grid.best_estimator_)\n",
    "print('\\n Best score:')\n",
    "print(grid.best_score_ * 2 - 1)\n",
    "print('\\n Best parameters:')\n",
    "print(grid.best_params_)\n",
    "df_results_grid = pd.DataFrame(grid.cv_results_)\n",
    "#df_results.to_csv('...csv', index=False)"
   ]
  },
  {
   "cell_type": "code",
   "execution_count": null,
   "metadata": {},
   "outputs": [],
   "source": [
    "grid.best_params_"
   ]
  },
  {
   "cell_type": "code",
   "execution_count": null,
   "metadata": {},
   "outputs": [],
   "source": [
    "y_pred = grid.best_estimator_.predict_proba(X_test)\n",
    "#df_results_grid = pd.DataFrame(data={'id':test_df['id'], 'target':y_test[:,1]})\n",
    "#df_results_grid.to_csv('....csv', index=False)\n",
    "\n",
    "print(\"############\\n# XGBoost #\\n############\")\n",
    "print(f\"Log loss on test set: {sk_metrics.log_loss(y_test, y_pred):.5f}\")\n",
    "#print(f\"AUC on test set: {sk_metrics.roc_auc_score(y_test, y_pred)*100:.2f}%\")"
   ]
  },
  {
   "cell_type": "code",
   "execution_count": null,
   "metadata": {},
   "outputs": [],
   "source": [
    "# Convert the Probability Predictions array to a pandas DataFrame\n",
    "df_predictions = pd.DataFrame(y_pred , columns = ['prob_no_goal', 'prob_goal'])\n",
    "\n",
    "# Join the Probability Predictions back onto the original test DataFrame\n",
    "df_test_predictions_initial = pd.merge(X_test, df_predictions, left_index=True, right_index=True)\n",
    "\n",
    "# Display DataFrame\n",
    "df_test_predictions_initial.head()"
   ]
  },
  {
   "cell_type": "markdown",
   "metadata": {},
   "source": [
    "## <a id='#section12'>12. Final Optimised XGBoost Model</a>"
   ]
  },
  {
   "cell_type": "code",
   "execution_count": null,
   "metadata": {},
   "outputs": [],
   "source": [
    "{'colsample_bytree': 0.8,\n",
    " 'gamma': 0.5,\n",
    " 'max_depth': 3,\n",
    " 'min_child_weight': 1,\n",
    " 'subsample': 1.0}"
   ]
  },
  {
   "cell_type": "code",
   "execution_count": null,
   "metadata": {
    "scrolled": true
   },
   "outputs": [],
   "source": [
    "# Declare parameters\n",
    "params = {'colsample_bytree': 0.7634432872628131,\n",
    "          'gamma': 8.813272293476338,\n",
    "          'max_depth': 10,\n",
    "          'min_child_weight': 9.0,\n",
    "          'reg_alpha': 73.0,\n",
    "          'reg_lambda': 0.24969380798546292\n",
    "         #'objective':'binary:logistic',\n",
    "         #'max_depth': 4,\n",
    "         #'alpha': 10,\n",
    "         #'learning_rate': 1.0,\n",
    "         #'n_estimators':100\n",
    "         }         \n",
    "           \n",
    "          \n",
    "# Instantiate the classifier \n",
    "xgb_clf_final = XGBClassifier(**params)\n",
    "\n",
    "# Fit the classifier to the training data\n",
    "xgb_clf_final.fit(X_train, y_train)"
   ]
  },
  {
   "cell_type": "code",
   "execution_count": null,
   "metadata": {},
   "outputs": [],
   "source": [
    "# View the parameters of the final xgb trained model\n",
    "print(xgb_clf_final)"
   ]
  },
  {
   "cell_type": "code",
   "execution_count": null,
   "metadata": {},
   "outputs": [],
   "source": [
    "# Predict the probabilities of test set\n",
    "y_pred_final = xgb_clf_final.predict_proba(X_test)\n",
    "\n",
    "print(\"############\\n# XGBoost #\\n############\")\n",
    "print(f\"Log loss on test set: {sk_metrics.log_loss(y_test, y_pred_final):.5f}\")\n",
    "#print(f\"AUC on test set: {sk_metrics.roc_auc_score(y_test, y_pred_final)*100:.2f}%\")"
   ]
  },
  {
   "cell_type": "markdown",
   "metadata": {},
   "source": [
    "---\n",
    "\n",
    "## <a id='#section13'>13. Performance comparison of XGBoost with Logistic Regression</a>"
   ]
  },
  {
   "cell_type": "markdown",
   "metadata": {},
   "source": [
    "#### Training of the Logistic Regression"
   ]
  },
  {
   "cell_type": "code",
   "execution_count": null,
   "metadata": {},
   "outputs": [],
   "source": [
    "# Training of the Logistic Regression on the Train set\n",
    "model_lr = LogisticRegression(random_state=42)\n",
    "model_lr.fit(df_train[features], np.array(df_train['isGoal']).ravel())\n",
    "\n",
    "# Prediction on the Test set\n",
    "pred_probs = model_lr.predict_proba(df_test[features])[:,1]\n",
    "\n",
    "print(\"#################\\n# Logistic reg. #\\n#################\")\n",
    "print(f\"Log loss on test set: {sk_metrics.log_loss(df_test['isGoal'], pred_probs):.5f}\")\n",
    "print(f\"AUC on test set: {sk_metrics.roc_auc_score(df_test['isGoal'], pred_probs)*100:.2f}%\")"
   ]
  },
  {
   "cell_type": "markdown",
   "metadata": {},
   "source": [
    "## <a id='#section14'>14. Assessment of the Performance of the Teams in Game 2 of the Metrica Sports Shot Data\n",
    "The next stage of this analysis to take the Chance Quality Model derived and apply it to the DataFrame of identified shots from game 2 of the sample Metrica Sports data. to determine which team deserved to win the game, based solely on the quality of chances that each team created."
   ]
  },
  {
   "cell_type": "markdown",
   "metadata": {},
   "source": [
    "### <a id='#section14.1'>14.1. Apply the Trained Chance Quality Model from XGBoost to the Metrica Sports Data"
   ]
  },
  {
   "cell_type": "markdown",
   "metadata": {},
   "source": [
    "##### Import Metrica Sports Shots data for game 2"
   ]
  },
  {
   "cell_type": "code",
   "execution_count": 30,
   "metadata": {},
   "outputs": [
    {
     "name": "stdout",
     "output_type": "stream",
     "text": [
      "['../../data/metrica-sports/engineered/game_2_shots.csv', '../../data/metrica-sports/engineered/archive', '../../data/metrica-sports/engineered/submitted', '../../data/metrica-sports/engineered/game_2_shots_with_xg.csv']\n"
     ]
    }
   ],
   "source": [
    "# Read data directory\n",
    "print(glob.glob(os.path.join(data_dir_metrica, 'engineered/*')))"
   ]
  },
  {
   "cell_type": "code",
   "execution_count": 31,
   "metadata": {},
   "outputs": [],
   "source": [
    "# Read in exported Metrica Sports game 2 shots CSV as a pandas DataFrame\n",
    "df_metrica = pd.read_csv(os.path.join(data_dir_metrica, 'engineered', 'game_2_shots.csv'))"
   ]
  },
  {
   "cell_type": "code",
   "execution_count": 32,
   "metadata": {},
   "outputs": [
    {
     "data": {
      "text/html": [
       "<video src=\"../../video/fig/metrica-sports/tracking_shots_all.mp4\" controls  width=\"770\"  height=\"530\">\n",
       "      Your browser does not support the <code>video</code> element.\n",
       "    </video>"
      ],
      "text/plain": [
       "<IPython.core.display.Video object>"
      ]
     },
     "execution_count": 32,
     "metadata": {},
     "output_type": "execute_result"
    }
   ],
   "source": [
    "# Embed video of the 24 shots in game 2 of the Metrica Sports sample data\n",
    "Video('../../video/fig/metrica-sports/tracking_shots_all.mp4', width=770, height=530)"
   ]
  },
  {
   "cell_type": "markdown",
   "metadata": {},
   "source": [
    "##### Transform Metrica Sports data to be compatible with trained Chance Quality Model"
   ]
  },
  {
   "cell_type": "code",
   "execution_count": null,
   "metadata": {},
   "outputs": [],
   "source": [
    "# Define function to transform both the Chance Quality model and the Metrica Sports data to be compatible with trained Chance Quality Model\n",
    "def transformation_metrica_test_train(df):\n",
    "    \"\"\"\n",
    "    Function performs all transformation steps defined in the section *Univariate analysis - Part A*\n",
    "    \"\"\"\n",
    "    \n",
    "    df = df.copy()\n",
    "    \n",
    "    # Drop 'BodyPart' == 'Unknown'\n",
    "    df = df[df['BodyPart'] != 'Other']\n",
    "    \n",
    "    # Drop 'Interference_on_Shooter' == 'Unknown'\n",
    "    df = df[df['Interference_on_Shooter'] != 'Unknown']\n",
    "    \n",
    "    # Compute the distance to the center - distance_to_centerM\n",
    "    df['distance_to_centerM'] = np.abs(df['position_yM'])\n",
    "    \n",
    "    # Computer whether the shot is taken with the foot or head\n",
    "    df['isFoot'] = df['BodyPart'].map(dict_isFoot)\n",
    "    df['isHead'] = df['BodyPart'].map(dict_isHead)\n",
    "\n",
    "    # Compute header distance to goal\n",
    "    df['header_distance_to_goalM'] = df['isHead'] * df['distance_to_goalM']\n",
    "    \n",
    "    # One-hot encode the Interference on the Shooter\n",
    "    \n",
    "    ## One-hot encoding\n",
    "    df_dummy_interference_on_shooter = pd.get_dummies(df['Interference_on_Shooter'])\n",
    "    \n",
    "    # Attach separate columns back onto the dataset\n",
    "    df = pd.concat([df, df_dummy_interference_on_shooter], axis=1)\n",
    "    \n",
    "    return df"
   ]
  },
  {
   "cell_type": "code",
   "execution_count": null,
   "metadata": {},
   "outputs": [],
   "source": [
    "# Transform Test and Train data\n",
    "df_train_metrica = transformation_metrica_test_train(df_train_raw)\n",
    "df_test_metrica = transformation_metrica_test_train(df_test_raw)"
   ]
  },
  {
   "cell_type": "code",
   "execution_count": null,
   "metadata": {},
   "outputs": [],
   "source": [
    "# Define function to transform both the Chance Quality model and the Metrica Sports data to be compatible with trained Chance Quality Model\n",
    "def transformation_metrica(df):\n",
    "    \"\"\"\n",
    "    Function performs all transformation steps defined in the section *Univariate analysis - Part A*\n",
    "    \"\"\"\n",
    "    \n",
    "    df = df.copy()\n",
    "    \n",
    "    # Drop 'BodyPart' == 'Unknown'\n",
    "    df = df[df['BodyPart'] != 'Other']\n",
    "    \n",
    "    # Drop 'Interference_on_Shooter' == 'Unknown'\n",
    "    df = df[df['Interference_on_Shooter'] != 'Unknown']\n",
    "    \n",
    "    # Compute the distance to the center - distance_to_centerM\n",
    "    df['distance_to_centerM'] = np.abs(df['position_yM'])\n",
    "    \n",
    "    # Computer whether the shot is taken with the foot or head\n",
    "    # df['isFoot'] = df['BodyPart'].map(dict_isFoot)\n",
    "    # df['isHead'] = df['BodyPart'].map(dict_isHead)\n",
    "\n",
    "    # Compute header distance to goal\n",
    "    df['header_distance_to_goalM'] = df['isHead'] * df['distance_to_goalM']\n",
    "    \n",
    "    # One-hot encode the Interference on the Shooter\n",
    "    \n",
    "    ## One-hot encoding\n",
    "    df_dummy_interference_on_shooter = pd.get_dummies(df['Interference_on_Shooter'])\n",
    "    \n",
    "    # Attach separate columns back onto the dataset\n",
    "    df = pd.concat([df, df_dummy_interference_on_shooter], axis=1)\n",
    "    \n",
    "    return df"
   ]
  },
  {
   "cell_type": "code",
   "execution_count": null,
   "metadata": {},
   "outputs": [],
   "source": [
    "# Transform Metrica Sports data \n",
    "df_metrica_trans = transformation_metrica(df_metrica)"
   ]
  },
  {
   "cell_type": "markdown",
   "metadata": {},
   "source": [
    "##### Create Metrica Sports XGBoost Model"
   ]
  },
  {
   "cell_type": "code",
   "execution_count": null,
   "metadata": {},
   "outputs": [],
   "source": [
    "features = ['distance_to_goalM',\n",
    "           #'distance_to_centerM',\n",
    "            'angle',\n",
    "            'Number_Intervening_Opponents',\n",
    "            'Number_Intervening_Teammates',\n",
    "           #'isFoot',   # potential remove this one as deemed non-monotic\n",
    "           #'isHead',   # potential remove this one as deemed non-monotic\n",
    "            'High',     # 'Interference_on_Shooter'\n",
    "           #'Medium',   # 'Interference_on_Shooter'\n",
    "            'Low',       # 'Interference_on_Shooter'\n",
    "            'header_distance_to_goalM'\n",
    "           ]\n",
    "\n",
    "# Training of the logistic regression on the train set\n",
    "reg_metrica = LogisticRegression(random_state=42)\n",
    "reg_metrica.fit(df_train_trans[features], np.array(df_train_trans['isGoal']).ravel())\n",
    "\n",
    "# Prediction on the test set\n",
    "pred_probs = reg_metrica.predict_proba(df_test_trans[features])[:,1]\n",
    "print(f\"Log loss on test set after univariate analysis part A: {sk_metrics.log_loss(df_test_trans['isGoal'], pred_probs):.5f}\")\n",
    "print(f\"AUC on test set after univariate analysis part A: {sk_metrics.roc_auc_score(df_test_trans['isGoal'], pred_probs)*100:.2f}%\")"
   ]
  },
  {
   "cell_type": "markdown",
   "metadata": {},
   "source": [
    "##### Probability Predictions"
   ]
  },
  {
   "cell_type": "code",
   "execution_count": null,
   "metadata": {},
   "outputs": [],
   "source": [
    "# Convert the Probability Predictions array to a pandas DataFrame\n",
    "df_metrica_predictions = pd.DataFrame(yNew, columns = ['prob_no_goal', 'prob_goal'])"
   ]
  },
  {
   "cell_type": "code",
   "execution_count": null,
   "metadata": {},
   "outputs": [],
   "source": [
    "# Join the Probability Predictions back onto the original Metrica shots DataFrame\n",
    "df_metrica_xg = pd.merge(df_metrica, df_metrica_predictions, left_index=True, right_index=True)\n",
    "\n",
    "# Display DataFrame\n",
    "df_metrica_xg.head()"
   ]
  },
  {
   "cell_type": "markdown",
   "metadata": {},
   "source": [
    "### <a id='#section14.2'>14.2. Assessment of the Performance of the Teams in Game 2 of the Metrica Sports Shot Data"
   ]
  },
  {
   "cell_type": "code",
   "execution_count": null,
   "metadata": {},
   "outputs": [],
   "source": [
    "df_metrica_xg['xG'] = df_metrica_xg['prob_goal']\n",
    "df_metrica_xg['xG'] = np.where(df_metrica_xg['isPenalty'] == 1, 0.76, df_metrica_xg['xG'])"
   ]
  },
  {
   "cell_type": "code",
   "execution_count": null,
   "metadata": {},
   "outputs": [],
   "source": [
    "# Create xG Race Chart with revised xG for penalties\n",
    "\n",
    "## Assign DataFrame\n",
    "df = df_metrica_xg\n",
    "\n",
    "## Create four lists to plot the different xG values - home, away, xG, and minutes. We start these with zero so our charts will start at 0\n",
    "a_xG = [0]\n",
    "h_xG = [0]\n",
    "a_min = [0]\n",
    "h_min = [0]\n",
    "\n",
    "## Define team names from the DataFrame\n",
    "hteam = 'Home'\n",
    "ateam = 'Away'\n",
    "\n",
    "## For loop to append the xG and minute for both the Home and Away teams\n",
    "for x in range(len(df['xG'])):\n",
    "    if df['team'][x]==ateam:\n",
    "        a_xG.append(df['xG'][x])\n",
    "        a_min.append(df['match_minute'][x])\n",
    "    if df['team'][x]==hteam:\n",
    "        h_xG.append(df['xG'][x])\n",
    "        h_min.append(df['match_minute'][x])\n",
    "        \n",
    "## Function we use to make the xG values be cumulative rather than single shot values. Foes through the list and adds the numbers together\n",
    "def nums_cumulative_sum(nums_list):\n",
    "    return [sum(nums_list[:i+1]) for i in range(len(nums_list))]\n",
    "\n",
    "## Apply defned nums_cumulative_sum function to the home and away xG lists\n",
    "a_cumulative = nums_cumulative_sum(a_xG)\n",
    "h_cumulative = nums_cumulative_sum(h_xG)\n",
    "\n",
    "## Find the total xG. Create a new variable from the last item in the cumulative list\n",
    "alast = round(a_cumulative[-1],2)\n",
    "hlast = round(h_cumulative[-1],2)\n",
    "\n",
    "## Set background colour\n",
    "background = 'aliceblue'\n",
    "\n",
    "## Create figure \n",
    "fig, ax = plt.subplots(figsize=(15, 6))\n",
    "fig.set_facecolor(background)\n",
    "ax.patch.set_facecolor(background)\n",
    "\n",
    "# Set up our base layer\n",
    "mpl.rcParams['xtick.color'] = 'midnightblue'\n",
    "mpl.rcParams['ytick.color'] = 'midnightblue'\n",
    "\n",
    "## Create xG Race Chart\n",
    "plt.xticks([0, 15, 30, 45, 60, 75, 90])\n",
    "plt.xlabel('Minute', fontfamily='DejaVu Sans', color='midnightblue', fontsize=16)\n",
    "plt.ylabel('xG', fontfamily='DejaVu Sans', color='midnightblue', fontsize=16)\n",
    "\n",
    "# Plot the step graphs\n",
    "ax.step(x=a_min, y=a_cumulative, color='blue', label=ateam, linewidth=5, where='post')\n",
    "ax.step(x=h_min, y=h_cumulative, color='red', label=ateam, linewidth=5, where='post')\n",
    "\n",
    "## Set Gridlines \n",
    "ax.grid(linewidth=0.25, color='midnightblue', axis='y', zorder=1)\n",
    "spines = ['top','bottom','left','right']\n",
    "for x in spines:\n",
    "    if x in spines:\n",
    "        ax.spines[x].set_visible(False)\n",
    "\n",
    "## Set title\n",
    "ax.set_title('xG Race Chart',\n",
    "             loc='center',\n",
    "             color='midnightblue', \n",
    "             fontweight='bold',\n",
    "             fontfamily='DejaVu Sans',\n",
    "             fontsize=22,\n",
    "            )\n",
    "\n",
    "## Show Legend\n",
    "#plt.legend()\n",
    "\n",
    "## Save figure\n",
    "if not os.path.exists(fig_shots_dir + '/metrica_shots_race_chart_xg_xgboost.png'):\n",
    "    plt.savefig(fig_shots_dir + '/metrica_shots_race_chart_xg_xgboost.png', bbox_inches='tight', dpi=300)\n",
    "else:\n",
    "    pass\n",
    "\n",
    "## Show figure\n",
    "plt.tight_layout()\n",
    "plt.show()"
   ]
  },
  {
   "cell_type": "markdown",
   "metadata": {},
   "source": [
    "### <a id='#section14.3'>14.3. Comparison of the XGBoost and Logistic Regression Predictions"
   ]
  },
  {
   "cell_type": "code",
   "execution_count": null,
   "metadata": {},
   "outputs": [],
   "source": [
    "# ADD HERE"
   ]
  },
  {
   "cell_type": "markdown",
   "metadata": {},
   "source": [
    "## <a id='#section15'>15. Summary</a>\n",
    "To summarise, this notebook ..."
   ]
  },
  {
   "cell_type": "markdown",
   "metadata": {},
   "source": [
    "---\n",
    "\n",
    "## <a id='#section16'>16. Next Steps</a>\n",
    "..."
   ]
  },
  {
   "cell_type": "markdown",
   "metadata": {},
   "source": [
    "---\n",
    "\n",
    "## <a id='#section17'>17. References and Further Reading</a>\n",
    "\n",
    "### XGBoost\n",
    "*    https://www.kaggle.com/prashant111/xgboost-k-fold-cv-feature-importance\n",
    "*    https://www.kaggle.com/prashant111/a-guide-on-xgboost-hyperparameters-tuning\n",
    "*    https://www.analyticsvidhya.com/blog/2016/03/complete-guide-parameter-tuning-xgboost-with-codes-python/\n",
    "*    https://www.datacamp.com/community/tutorials/xgboost-in-python\n",
    "*    https://blog.cambridgespark.com/getting-started-with-xgboost-3ba1488bb7d4\n",
    "*    https://towardsdatascience.com/a-beginners-guide-to-xgboost-87f5d4c30ed7\n",
    "*    https://heartbeat.fritz.ai/boosting-your-machine-learning-models-using-xgboost-d2cabb3e948f\n",
    "*    https://towardsdatascience.com/https-medium-com-vishalmorde-xgboost-algorithm-long-she-may-rein-edd9f99be63d\n",
    "*    https://medium.com/@gabrieltseng/gradient-boosting-and-xgboost-c306c1bcfaf5\n",
    "*    https://medium.com/mlreview/gradient-boosting-from-scratch-1e317ae4587d\n",
    "*    https://xgboost.readthedocs.io/en/latest/tutorials/param_tuning.html\n",
    "*    https://xgboost.readthedocs.io/en/latest/parameter.html#general-parameters\n",
    "*    https://medium.com/analytics-vidhya/hyperparameter-tuning-hyperopt-bayesian-optimization-for-xgboost-and-neural-network-8aedf278a1c9\n",
    "*    https://www.analyticsvidhya.com/blog/2016/03/complete-guide-parameter-tuning-xgboost-with-codes-python/\n",
    "*    https://www.kaggle.com/yassinealouini/hyperopt-the-xgboost-model\n",
    "\n",
    "### Expected Goals models\n",
    "\n",
    "#### Data\n",
    "*    [StatsBomb](https://statsbomb.com/)'s latest 360 release [[link](https://statsbomb.com/2021/02/statsbomb-360-and-evolve/)]\n",
    "*    [Impect](https://www.impect.com/en/about-us)'s 'Packing' metric [[link](https://www.youtube.com/watch?v=fk8yAQU9U1E&ab_channel=IMPECT)].\n",
    "\n",
    "#### Seminars and videos\n",
    "*    The Ultimate Guide to Expected Goals by David Sumpter for Friends of Tracking: https://www.youtube.com/watch?v=310_eW0hUqQ\n",
    "*    How to explain Expected Goals to a football player by David Sumpter: https://www.youtube.com/watch?v=Xc6IG9-Dt18 \n",
    "*    What is xG? by Alex Stewart for Tifo Football: https://www.youtube.com/watch?v=zSaeaFcm1SY\n",
    "*    Opta Expected Goals presented by Duncan Alexander: https://www.youtube.com/watch?v=w7zPZsLGK18 \n",
    "*    Sam Green OptaPro Interview: https://www.youtube.com/watch?v=gHIY-MgDh_o \n",
    "*    Anatomy of a Goal (with Sam Green) for Numberphile: https://www.youtube.com/watch?v=YJuHC7xXsGA \n",
    "\n",
    "#### Tutorials\n",
    "*    Friends of Tracking Expected Goals tutorials by David Sumpter:\n",
    "     +    Seminars:\n",
    "          -    Part 1 – How to build an Expected Goals model 1 – Data and model: https://www.youtube.com/watch?v=bpjLyFyLlXs\n",
    "          -    Part 2 – How to build an Expected Goals model 2 – Statistical fitting: https://www.youtube.com/watch?v=wHOgINJ5g54 \n",
    "*    GitHub repository:\n",
    "     +    xG model: https://github.com/Friends-of-Tracking-Data-FoTD/SoccermaticsForPython/blob/master/3xGModel.py\n",
    "     +    Linear regression: https://github.com/Friends-of-Tracking-Data-FoTD/SoccermaticsForPython/blob/master/4LinearRegression.py\n",
    "     +    xG model fit: https://github.com/Friends-of-Tracking-Data-FoTD/SoccermaticsForPython/blob/master/5xGModelFit.py \n",
    "\n",
    "#### Notable xG models\n",
    "*    Sam Green: https://www.optasportspro.com/news-analysis/assessing-the-performance-of-premier-league-goalscorers/ \n",
    "*    Michael Caley: https://cartilagefreecaptain.sbnation.com/2014/9/11/6131661/premier-league-projections-2014#methoderology \n",
    "\n",
    "#### Professional and Fanalyst examples:\n",
    "*    An xG Model for Everyone in 20 minutes (ish) by Paul Riley: https://differentgame.wordpress.com/2017/04/29/an-xg-model-for-everyone-in-20-minutes-ish/ \n",
    "*    [Tech how-to: build your own Expected Goals model by SciSports](https://www.scisports.com/tech-how-to-build-your-own-expected-goals-model/). For code, see: https://bitbucket.org/scisports/ssda-how-to-expected-goals/src/master/\n",
    "soccer_analytics repository by Kraus Clemens: https://github.com/CleKraus/soccer_analytics/ \n",
    "*    Expected goal model using Logistic Regression: https://github.com/CleKraus/soccer_analytics/blob/master/notebooks/expected_goal_model_lr.ipynb \n",
    "*    Challenges using Gradient Boosters: https://github.com/CleKraus/soccer_analytics/blob/master/notebooks/challenges_with_gradient_boosters.ipynb \n",
    "*    Expected Goals thesis by Andrew Rowlinson: https://github.com/andrewRowlinson/expected-goals-thesis \n",
    "*    Expected Goals deep dive by Andrew Puopolo: https://github.com/andrewsimplebet/expected_goals_deep_dive\n",
    "*    [Fitting your own football xG model](https://www.datofutbol.cl/xg-model/) by Ismael Gomez\n",
    "*    [Python for Fantasy Football – Introduction to Machine Learning](http://www.fantasyfutopia.com/python-for-fantasy-football-introduction-to-machine-learning/) by Fantasy Futopia (Thomas Whelan)\n",
    "\n",
    "#### Articles:\n",
    "*    xG explained by FBref: https://fbref.com/en/expected-goals-model-explained/ \n",
    "*    Should you write about real goals or expected goals? A guide for journalists by David Sumpter (@Soccermatics): https://soccermatics.medium.com/should-you-write-about-real-goals-or-expected-goals-a-guide-for-journalists-2cf0c7ec6bb6 \n",
    "*    [How Data Availability affects the ability to learn good xG models](https://dtai.cs.kuleuven.be/sports/blog/how-data-availability-affects-the-ability-to-learn-good-xg-models) by [Jesse Davis](https://twitter.com/jessejdavis1) and [Pieter Robberechts](https://twitter.com/p_robberechts) for [KU Leuven](https://www.kuleuven.be/kuleuven/)\n",
    "*    Expected Goals and Unexpected Goals by Garry Gelade: https://web.archive.org/web/20200724125157/http://business-analytic.co.uk/blog/expected-goals-and-unexpected-goals/ \n",
    "*    Assessing Expected Goals Models. Part 1: Shots by Garry Gelade: https://web.archive.org/web/20200724125157/http://business-analytic.co.uk/blog/evaluating-expected-goals-models/\n",
    "*    Assessing Expected Goals Models. Part 2: Anatomy of a Big Chance by Garry Gelade: https://web.archive.org/web/20200724125157/http://business-analytic.co.uk/blog/assessing-expected-goals-models-part-2-anatomy-of-a-big-chance/ \n",
    "\n",
    "#### Literature:\n",
    "*    Expected Goals literature: https://docs.google.com/document/d/1OY0dxqXIBgncj0UDgb97zOtczC-b6JUknPFWgD77ng4/edit \n",
    "\n",
    "\n",
    "### Visualisation\n",
    "*    [How to Draw a Football Pitch](http://petermckeever.com/2020/10/how-to-draw-a-football-pitch/) by Peter McKeever\n",
    "*    [How To Create xG Flow Charts in Python](https://www.youtube.com/watch?v=bvoOOYMQkac) by [McKay Johns](https://twitter.com/mckayjohns). For code, see [[link](https://github.com/mckayjohns/Viz-Templates)]\n",
    "*    [How to Make a Plot with Two Different Y-axis in Python with Matplotlib](https://cmdlinetips.com/2019/10/how-to-make-a-plot-with-two-different-y-axis-in-python-with-matplotlib/)\n",
    "*    https://stackoverflow.com/questions/39409866/correlation-heatmap\n",
    "*    [Control color in seaborn heatmaps](https://www.python-graph-gallery.com/92-control-color-in-seaborn-heatmaps)"
   ]
  },
  {
   "cell_type": "markdown",
   "metadata": {},
   "source": [
    "---\n",
    "\n",
    "***Visit my website [EddWebster.com](https://www.eddwebster.com) or my [GitHub Repository](https://github.com/eddwebster) for more projects. If you'd like to get in contact, my Twitter handle is [@eddwebster](http://www.twitter.com/eddwebster) and my email is: edd.j.webster@gmail.com.***"
   ]
  },
  {
   "cell_type": "markdown",
   "metadata": {},
   "source": [
    "[Back to the top](#top)"
   ]
  }
 ],
 "metadata": {
  "kernelspec": {
   "display_name": "Python 3",
   "language": "python",
   "name": "python3"
  },
  "language_info": {
   "codemirror_mode": {
    "name": "ipython",
    "version": 3
   },
   "file_extension": ".py",
   "mimetype": "text/x-python",
   "name": "python",
   "nbconvert_exporter": "python",
   "pygments_lexer": "ipython3",
   "version": "3.7.6"
  },
  "varInspector": {
   "cols": {
    "lenName": 16,
    "lenType": 16,
    "lenVar": 40
   },
   "kernels_config": {
    "python": {
     "delete_cmd_postfix": "",
     "delete_cmd_prefix": "del ",
     "library": "var_list.py",
     "varRefreshCmd": "print(var_dic_list())"
    },
    "r": {
     "delete_cmd_postfix": ") ",
     "delete_cmd_prefix": "rm(",
     "library": "var_list.r",
     "varRefreshCmd": "cat(var_dic_list()) "
    }
   },
   "oldHeight": 642,
   "position": {
    "height": "664px",
    "left": "1059px",
    "right": "20px",
    "top": "-2px",
    "width": "489px"
   },
   "types_to_exclude": [
    "module",
    "function",
    "builtin_function_or_method",
    "instance",
    "_Feature"
   ],
   "varInspector_section_display": "block",
   "window_display": false
  }
 },
 "nbformat": 4,
 "nbformat_minor": 4
}
